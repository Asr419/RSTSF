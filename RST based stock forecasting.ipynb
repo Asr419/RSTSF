{
  "nbformat": 4,
  "nbformat_minor": 0,
  "metadata": {
    "colab": {
      "name": "Copy of IR.ipynb",
      "provenance": [],
      "collapsed_sections": []
    },
    "kernelspec": {
      "display_name": "R",
      "name": "ir"
    }
  },
  "cells": [
    {
      "cell_type": "code",
      "metadata": {
        "id": "Z60PpIfIeF4Z"
      },
      "source": [
        ""
      ],
      "execution_count": null,
      "outputs": []
    },
    {
      "cell_type": "code",
      "metadata": {
        "colab": {
          "background_save": true,
          "base_uri": "https://localhost:8080/"
        },
        "id": "rCEtur7fajGn",
        "outputId": "8bdb8c52-0b7f-4ab0-a977-4fd1ffca7730"
      },
      "source": [
        "cat(system('python3 -c \"from google.colab import drive\\ndrive.mount()\"', intern=TRUE), sep='\\n', wait=TRUE)"
      ],
      "execution_count": null,
      "outputs": [
        {
          "output_type": "stream",
          "text": [
            "Warning message in system(\"python3 -c \\\"from google.colab import drive\\ndrive.mount()\\\"\", :\n",
            "“running command 'python3 -c \"from google.colab import drive\n",
            "drive.mount()\"' had status 1”\n"
          ],
          "name": "stderr"
        },
        {
          "output_type": "stream",
          "text": [
            "\n",
            "TRUE\n"
          ],
          "name": "stdout"
        }
      ]
    },
    {
      "cell_type": "code",
      "metadata": {
        "colab": {
          "background_save": true
        },
        "id": "T6aH0TahbghZ"
      },
      "source": [
        "?system"
      ],
      "execution_count": null,
      "outputs": []
    },
    {
      "cell_type": "code",
      "metadata": {
        "colab": {
          "base_uri": "https://localhost:8080/"
        },
        "id": "3o11KxDzyC0g",
        "outputId": "f876defd-32d7-4b88-d482-cda9c5a2b3f5"
      },
      "source": [
        "install.packages(\"rgl\", repos = \"http://cran.rstudio.com/\")\n",
        "install.packages(\"ConsRank\", repos = \"http://cran.rstudio.com/\")\n",
        "library(\"ConsRank\")"
      ],
      "execution_count": null,
      "outputs": [
        {
          "output_type": "stream",
          "text": [
            "Installing package into ‘/usr/local/lib/R/site-library’\n",
            "(as ‘lib’ is unspecified)\n",
            "\n",
            "also installing the dependencies ‘sass’, ‘jquerylib’, ‘httpuv’, ‘xtable’, ‘sourcetools’, ‘bslib’, ‘miniUI’, ‘webshot’, ‘shiny’, ‘manipulateWidget’\n",
            "\n",
            "\n",
            "Warning message in install.packages(\"rgl\", repos = \"http://cran.rstudio.com/\"):\n",
            "“installation of package ‘httpuv’ had non-zero exit status”\n",
            "Warning message in install.packages(\"rgl\", repos = \"http://cran.rstudio.com/\"):\n",
            "“installation of package ‘webshot’ had non-zero exit status”\n",
            "Warning message in install.packages(\"rgl\", repos = \"http://cran.rstudio.com/\"):\n",
            "“installation of package ‘shiny’ had non-zero exit status”\n",
            "Warning message in install.packages(\"rgl\", repos = \"http://cran.rstudio.com/\"):\n",
            "“installation of package ‘miniUI’ had non-zero exit status”\n",
            "Warning message in install.packages(\"rgl\", repos = \"http://cran.rstudio.com/\"):\n",
            "“installation of package ‘manipulateWidget’ had non-zero exit status”\n",
            "Warning message in install.packages(\"rgl\", repos = \"http://cran.rstudio.com/\"):\n",
            "“installation of package ‘rgl’ had non-zero exit status”\n",
            "Installing package into ‘/usr/local/lib/R/site-library’\n",
            "(as ‘lib’ is unspecified)\n",
            "\n",
            "also installing the dependencies ‘httpuv’, ‘miniUI’, ‘webshot’, ‘shiny’, ‘manipulateWidget’, ‘XML’, ‘data.table’, ‘rgl’, ‘rlist’, ‘proxy’, ‘gtools’\n",
            "\n",
            "\n",
            "Warning message in install.packages(\"ConsRank\", repos = \"http://cran.rstudio.com/\"):\n",
            "“installation of package ‘httpuv’ had non-zero exit status”\n"
          ],
          "name": "stderr"
        }
      ]
    },
    {
      "cell_type": "code",
      "metadata": {
        "colab": {
          "base_uri": "https://localhost:8080/"
        },
        "id": "9aSvxBoYVbUW",
        "outputId": "1fb1a30f-8f18-4763-de9a-fd751566687a"
      },
      "source": [
        "\n",
        "install.packages(\"RoughSets\", repos = \"http://cran.rstudio.com/\")\n",
        "install.packages(\"data.table\", repos = \"http://cran.rstudio.com/\")\n",
        "library(\"RoughSets\")\n",
        "library(\"data.table\")\n",
        "data(RoughSetData)\n",
        "mydat <- read.csv(\"adaniports_newMA.csv\")\n",
        "tra <-SF.asDecisionTable(mydat[1:nrow(mydat),],\n",
        "                              decision.attr = 7)\n",
        "idx <- round(0.75 * nrow(tra))\n",
        "wine.tra <-SF.asDecisionTable(tra[1:idx,],decision.attr = 7)\n",
        "wine.tst <- SF.asDecisionTable(tra[(idx+1):nrow(tra), -ncol(tra)])\n",
        "true.classes <- tra[(idx+1):nrow(tra), ncol(tra)]\n",
        "cut.values <- D.discretization.RST(wine.tra,type.method = \"unsupervised.quantiles\",nOfIntervals = 4)\n",
        "data.tra <- SF.applyDecTable(wine.tra, cut.values)\n",
        "data.tst <- SF.applyDecTable(wine.tst, cut.values)\n",
        "#reduct <- FS.quickreduct.RST(data.tra)\n",
        "control <- list(type.aggregation = c(\"t.tnorm\", \"lukasiewicz\"),\n",
        "t.implicator = \"lukasiewicz\", type.relation = c(\"transitive.kernel\",\"gaussian\",0.2))\n",
        "reduct.1 <- FS.quickreduct.FRST(wine.tra, type.method = \"fuzzy.dependency\",\n",
        "type.QR = \"fuzzy.QR\", control = control)\n",
        "print(reduct.1)  "
      ],
      "execution_count": null,
      "outputs": [
        {
          "output_type": "stream",
          "text": [
            "Installing package into ‘/usr/local/lib/R/site-library’\n",
            "(as ‘lib’ is unspecified)\n",
            "\n",
            "Installing package into ‘/usr/local/lib/R/site-library’\n",
            "(as ‘lib’ is unspecified)\n",
            "\n"
          ],
          "name": "stderr"
        },
        {
          "output_type": "stream",
          "text": [
            "A feature subset consisting of 2  attributes:\n",
            "RSI, PROC\n"
          ],
          "name": "stdout"
        }
      ]
    },
    {
      "cell_type": "code",
      "metadata": {
        "colab": {
          "base_uri": "https://localhost:8080/"
        },
        "id": "gmXuPUSarwxS",
        "outputId": "43af932c-a605-48ef-b54b-cda87b1eb4a8"
      },
      "source": [
        "install.packages(\"RoughSets\", repos = \"http://cran.rstudio.com/\")\n",
        "install.packages(\"data.table\", repos = \"http://cran.rstudio.com/\")\n",
        "library(\"RoughSets\")\n",
        "library(\"data.table\")"
      ],
      "execution_count": null,
      "outputs": [
        {
          "output_type": "stream",
          "text": [
            "Installing package into ‘/usr/local/lib/R/site-library’\n",
            "(as ‘lib’ is unspecified)\n",
            "\n",
            "Installing package into ‘/usr/local/lib/R/site-library’\n",
            "(as ‘lib’ is unspecified)\n",
            "\n",
            "Loading required package: Rcpp\n",
            "\n"
          ],
          "name": "stderr"
        }
      ]
    },
    {
      "cell_type": "code",
      "metadata": {
        "colab": {
          "base_uri": "https://localhost:8080/",
          "height": 470
        },
        "id": "MC8svoBXsKDJ",
        "outputId": "bdea6897-8822-4c91-afc4-c48574d1f9d3"
      },
      "source": [
        "data(RoughSetData)\n",
        "mydat <- read.csv(\"MA1.8b.csv\")\n",
        "tra <-SF.asDecisionTable(mydat[1:nrow(mydat),],\n",
        "                         decision.attr = 7)\n",
        "idx <- round(0.80 * nrow(tra)) \n",
        "wine.tra <-SF.asDecisionTable(tra[1:idx,],decision.attr = 7)\n",
        "wine.tst <- SF.asDecisionTable(tra[(idx+1):nrow(tra), -ncol(tra)])\n",
        "true.classes <- tra[(idx+1):nrow(tra), ncol(tra)]\n",
        "cut.values <- D.discretization.RST(wine.tra,type.method = \"unsupervised.quantiles\",nOfIntervals = 4)\n",
        "data.tra <- SF.applyDecTable(wine.tra, cut.values)\n",
        "data.tst <- SF.applyDecTable(wine.tst, cut.values)\n",
        "reduct <- FS.quickreduct.RST(data.tra)\n",
        "print(reduct)\n",
        "rules <- RI.CN2Rules.RST(data.tra,K=3)\n",
        "\n",
        "rules <- rules[RI.support(rules) > 0.005]\n",
        "\n",
        "print(rules)\n",
        "pred.vals1 <- predict(rules, data.tst)\n",
        "pred.vals2 <- predict(rules, data.tst,\n",
        "                      votingMethod = X.laplace)\n",
        "pred.vals3 <- predict(rules, data.tst,\n",
        "                      votingMethod = X.nOfConflicts)\n",
        "mean(pred.vals1 == true.classes)\n",
        "mean(pred.vals2 == true.classes)\n",
        "mean(pred.vals3 == true.classes)\n",
        "#cm <- confusionMatrix(prediction, reference = test_set$label)\n",
        "\n",
        "# extract F1 score for all classes\n",
        "#cm[[\"byClass\"]][ , \"F1\"] #for multiclass classification problems"
      ],
      "execution_count": null,
      "outputs": [
        {
          "output_type": "stream",
          "text": [
            "A feature subset consisting of 6  attributes:\n",
            "RSI, MACD, MA5_disc, MA12_disc, PROC, SOC\n",
            "A set consisting of  58  rules:\n",
            "1. IF MA5_disc is [0,1) and SOC is [-Inf,23.7) and PROC is [-5.5,0.201) and MA12_disc is [-1,0) THEN Y is 0;\n",
            "\t\t(supportSize=28; laplace=0.9032) \n",
            "2. IF MA5_disc is [0,1) and SOC is [75.8, Inf] and PROC is [6.53, Inf] THEN Y is 0;\n",
            "\t\t(supportSize=62; laplace=0.8923) \n",
            "3. IF MA12_disc is [0,1) and SOC is [-Inf,23.7) THEN Y is 0;\n",
            "\t\t(supportSize=26; laplace=0.8621) \n",
            "4. IF MA12_disc is [0,1) and RSI is [58.4, Inf] and PROC is [0.201,6.53) and MACD is [2.77, Inf] THEN Y is 0;\n",
            "\t\t(supportSize=19; laplace=0.9091) \n",
            "5. IF MA5_disc is [0,1) and PROC is [-5.5,0.201) and MA12_disc is [0,1) and RSI is [43.3,51) and SOC is [49.3,75.8) THEN Y is 0;\n",
            "\t\t(supportSize=19; laplace=0.8636) \n",
            "6. IF MA5_disc is [0,1) and PROC is [-5.5,0.201) and MA12_disc is [0,1) and MACD is [-2.28,0.593) THEN Y is 0;\n",
            "\t\t(supportSize=33; laplace=0.8333) \n",
            "7. IF MA5_disc is [0,1) and MA12_disc is [0,1) and PROC is [-5.5,0.201) and SOC is [23.7,49.3) THEN Y is 0;\n",
            "\t\t(supportSize=34; laplace=0.7838) \n",
            "8. IF MA5_disc is [0,1) and MA12_disc is [0,1) and MACD is [0.593,2.77) and PROC is [6.53, Inf] THEN Y is 0;\n",
            "\t\t(supportSize=13; laplace=0.75) \n",
            "9. IF MA5_disc is [0,1) and SOC is [-Inf,23.7) THEN Y is 0;\n",
            "\t\t(supportSize=39; laplace=0.7143) \n",
            "10. IF MA12_disc is [0,1) and PROC is [0.201,6.53) and MACD is [-Inf,-2.28) THEN Y is 0;\n",
            "\t\t(supportSize=14; laplace=0.7647) \n",
            "... and 48 other rules.\n"
          ],
          "name": "stdout"
        },
        {
          "output_type": "display_data",
          "data": {
            "text/html": [
              "0.686567164179104"
            ],
            "text/latex": "0.686567164179104",
            "text/markdown": "0.686567164179104",
            "text/plain": [
              "[1] 0.6865672"
            ]
          },
          "metadata": {
            "tags": []
          }
        },
        {
          "output_type": "display_data",
          "data": {
            "text/html": [
              "0.686567164179104"
            ],
            "text/latex": "0.686567164179104",
            "text/markdown": "0.686567164179104",
            "text/plain": [
              "[1] 0.6865672"
            ]
          },
          "metadata": {
            "tags": []
          }
        },
        {
          "output_type": "display_data",
          "data": {
            "text/html": [
              "0.686567164179104"
            ],
            "text/latex": "0.686567164179104",
            "text/markdown": "0.686567164179104",
            "text/plain": [
              "[1] 0.6865672"
            ]
          },
          "metadata": {
            "tags": []
          }
        }
      ]
    },
    {
      "cell_type": "code",
      "metadata": {
        "colab": {
          "base_uri": "https://localhost:8080/"
        },
        "id": "ene2J2PztsKc",
        "outputId": "dee6ccea-82ea-4f45-e91d-551076fa3056"
      },
      "source": [
        "print(rules[0:40])"
      ],
      "execution_count": null,
      "outputs": [
        {
          "output_type": "stream",
          "text": [
            "A set consisting of  40  rules:\n",
            "1. IF SOC is [-Inf,24.6) and MACD is [0.775,2.99) and PROC is [-Inf,-5.31) THEN Y is -1;\n",
            "\t\t(supportSize=24; laplace=0.8519) \n",
            "2. IF SOC is [-Inf,24.6) and MA5_disc is [-1,0) and PROC is [-5.31,0.41) and RSI is [-Inf,43.5) THEN Y is -1;\n",
            "\t\t(supportSize=68; laplace=0.7887) \n",
            "3. IF SOC is [-Inf,24.6) and MA5_disc is [-1,0) and PROC is [-Inf,-5.31) and MACD is [-2.18,0.775) and RSI is [-Inf,43.5) THEN Y is -1;\n",
            "\t\t(supportSize=62; laplace=0.7846) \n",
            "4. IF SOC is [-Inf,24.6) and MACD is [0.775,2.99) and PROC is [-5.31,0.41) and MA5_disc is [-1,0) THEN Y is -1;\n",
            "\t\t(supportSize=35; laplace=0.7632) \n",
            "5. IF MA5_disc is [1, Inf] and MACD is [-Inf,-2.18) and SOC is [76.5, Inf] and PROC is [0.41,6.78) THEN Y is 1;\n",
            "\t\t(supportSize=19; laplace=0.8182) \n",
            "6. IF MA5_disc is [1, Inf] and MACD is [-Inf,-2.18) and MA12_disc is [0,1) THEN Y is 1;\n",
            "\t\t(supportSize=14; laplace=0.7647) \n",
            "7. IF SOC is [-Inf,24.6) and MA5_disc is [-1,0) and PROC is [-Inf,-5.31) and RSI is [-Inf,43.5) THEN Y is -1;\n",
            "\t\t(supportSize=195; laplace=0.7273) \n",
            "8. IF MA5_disc is [-1,0) and MACD is [2.99, Inf] and RSI is [43.5,51.5) and SOC is [24.6,51.1) THEN Y is -1;\n",
            "\t\t(supportSize=21; laplace=0.875) \n",
            "9. IF MA5_disc is [-1,0) and SOC is [51.1,76.5) and PROC is [0.41,6.78) and MACD is [2.99, Inf] THEN Y is -1;\n",
            "\t\t(supportSize=20; laplace=0.8261) \n",
            "10. IF RSI is [58.8, Inf] and MACD is [-2.18,0.775) and PROC is [6.78, Inf] and SOC is [76.5, Inf] THEN Y is 1;\n",
            "\t\t(supportSize=17; laplace=0.85) \n",
            "... and 30 other rules.\n"
          ],
          "name": "stdout"
        }
      ]
    },
    {
      "cell_type": "code",
      "metadata": {
        "id": "SPYGePw53fWq"
      },
      "source": [
        "system(\"add-apt-repository -y ppa:marutter/rrutter\")\n",
        "system(\"add-apt-repository -y ppa:marutter/c2d4u\")\n",
        "system(\"apt-get update\")\n",
        "system(\"apt install -y r-cran-rstan\")"
      ],
      "execution_count": null,
      "outputs": []
    },
    {
      "cell_type": "code",
      "metadata": {
        "id": "1IzjHJFxv01f"
      },
      "source": [
        "install.packages('ggmap')\n",
        "install.packages('codetools')"
      ],
      "execution_count": null,
      "outputs": []
    },
    {
      "cell_type": "code",
      "metadata": {
        "id": "sdyV67dk2vGx"
      },
      "source": [
        "library(\"ggmap\")"
      ],
      "execution_count": null,
      "outputs": []
    },
    {
      "cell_type": "code",
      "metadata": {
        "id": "qIbhtDzdwYdB"
      },
      "source": [
        "options(repr.plot.width  = 3,\n",
        "        repr.plot.height = 3)\n",
        "Sys.setenv(USE_CXX14 = 1)\n",
        "library(\"rstan\") # observe startup messages\n",
        "options(mc.cores = parallel::detectCores())\n",
        "rstan_options(auto_write = TRUE)"
      ],
      "execution_count": null,
      "outputs": []
    },
    {
      "cell_type": "code",
      "metadata": {
        "id": "xLlQFtlPxD5j"
      },
      "source": [
        "x <- seq(0, 2*pi, length.out=50)\n",
        "plot(x, sin(x))"
      ],
      "execution_count": null,
      "outputs": []
    },
    {
      "cell_type": "code",
      "metadata": {
        "id": "lxBXXzeIx6aA"
      },
      "source": [
        "stanmodelcode <- \"\n",
        "data {\n",
        "    int<lower=0> N; \n",
        "    real y[N];\n",
        "}\n",
        "\n",
        "parameters {\n",
        "    real mu; \n",
        "\n",
        "}\n",
        "\n",
        "model {\n",
        "    target += normal_lpdf(mu | 0, 10);\n",
        "    target += normal_lpdf(y | mu, 1);\n",
        "}\"\n",
        "\n",
        "y <- rnorm(20)\n",
        "dat <- list(N = 20, y = y);\n",
        "\n",
        "fit <- stan(model_code = stanmodelcode, model_name = \"example\",\n",
        "            data = dat, iter = 2012, chains = 8, sample_file = 'norm.csv',\n",
        "            verbose = FALSE,\n",
        "            refresh = -1)\n",
        "\n",
        "print(fit)"
      ],
      "execution_count": null,
      "outputs": []
    },
    {
      "cell_type": "code",
      "metadata": {
        "id": "Vmo1YXVcx91I"
      },
      "source": [
        "plot(fit)"
      ],
      "execution_count": null,
      "outputs": []
    },
    {
      "cell_type": "code",
      "metadata": {
        "id": "0ocs9zTCx-Sw"
      },
      "source": [
        "y <- as.matrix(read.table('https://raw.github.com/wiki/stan-dev/rstan/rats.txt', header = TRUE))\n",
        "x <- c(8, 15, 22, 29, 36)\n",
        "xbar <- mean(x)\n",
        "N <- nrow(y)\n",
        "T <- ncol(y)\n",
        "rats_fit <- stan(file = 'https://raw.githubusercontent.com/stan-dev/example-models/master/bugs_examples/vol1/rats/rats.stan')\n"
      ],
      "execution_count": null,
      "outputs": []
    },
    {
      "cell_type": "code",
      "metadata": {
        "id": "HrED9oZSx_ph"
      },
      "source": [
        "rats_fit"
      ],
      "execution_count": null,
      "outputs": []
    },
    {
      "cell_type": "code",
      "metadata": {
        "id": "c4HysAnzyA_p"
      },
      "source": [
        "plot(rats_fit)"
      ],
      "execution_count": null,
      "outputs": []
    },
    {
      "cell_type": "code",
      "metadata": {
        "id": "ypXiaqB6jKRh"
      },
      "source": [
        "## load APA data set, full version\n",
        "data(APAFULL)\n",
        "## Emond and Mason Branch-and-Bound algorithm.\n",
        "## If the number of object is higher than 20, EMCons function may work for several minutes.\n",
        "## Use either QuickCons, DECOR, FASTcons or FASTDECOR instead\n",
        "CR=EMCons(APAFULL)"
      ],
      "execution_count": null,
      "outputs": []
    },
    {
      "cell_type": "code",
      "metadata": {
        "id": "uaE0kZ0vkqms"
      },
      "source": [
        "TR=tabulaterows(APAFULL)\n",
        "CR2=FASTcons(TR$X,TR$Wk,maxiter=5)\n",
        "CR3=QuickCons(TR$X,TR$Wk)\n",
        "CR4=DECOR(TR$X,TR$Wk)\n",
        "#####################################\n",
        "### load sports data set\n",
        "#data(sports)\n",
        "### FAST algorithm\n",
        "#CR=FASTcons(sports,maxiter=10)\n",
        "#####################################\n",
        "#######################################\n",
        "### load Emond and Mason data set\n",
        "#data(EMD)\n",
        "### matrix X contains rankings\n",
        "#X=EMD[,1:15]\n",
        "### vector Wk contains frequencies\n",
        "#Wk=EMD[,16]\n",
        "### QUICK algorithm\n",
        "#CR=QuickCons(X,Wk)\n",
        "#######################################"
      ],
      "execution_count": null,
      "outputs": []
    },
    {
      "cell_type": "code",
      "metadata": {
        "id": "YmCDzKEpkxgc"
      },
      "source": [
        "data(BU)\n",
        "polyplot(BU[,1:3],Wk=BU[,4])"
      ],
      "execution_count": null,
      "outputs": []
    },
    {
      "cell_type": "code",
      "metadata": {
        "id": "IS3VN3qamf20"
      },
      "source": [
        ""
      ],
      "execution_count": null,
      "outputs": []
    }
  ]
}