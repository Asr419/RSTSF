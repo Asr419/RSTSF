{
  "nbformat": 4,
  "nbformat_minor": 0,
  "metadata": {
    "kernelspec": {
      "display_name": "Python 3",
      "language": "python",
      "name": "python3"
    },
    "language_info": {
      "codemirror_mode": {
        "name": "ipython",
        "version": 3
      },
      "file_extension": ".py",
      "mimetype": "text/x-python",
      "name": "python",
      "nbconvert_exporter": "python",
      "pygments_lexer": "ipython3",
      "version": "3.6.9"
    },
    "colab": {
      "name": "code - Copy.ipynb",
      "provenance": [],
      "toc_visible": true
    }
  },
  "cells": [
    {
      "cell_type": "code",
      "metadata": {
        "id": "XjKJc87rBmNx"
      },
      "source": [
        "import warnings\n",
        "warnings.filterwarnings('ignore')\n",
        "import matplotlib.pyplot as plt\n",
        "import numpy as np\n",
        "import pandas as pd\n",
        "import random\n",
        "import seaborn as sns\n",
        "from sklearn.preprocessing import MinMaxScaler\n",
        "from keras.models import Sequential\n",
        "from keras.layers import Dense, LSTM\n",
        "RANDOM_SEED = 42\n",
        "random.seed(RANDOM_SEED)\n",
        "np.random.seed(RANDOM_SEED)"
      ],
      "execution_count": null,
      "outputs": []
    },
    {
      "cell_type": "code",
      "metadata": {
        "id": "GfGLBp3zBmOO"
      },
      "source": [
        "import math"
      ],
      "execution_count": null,
      "outputs": []
    },
    {
      "cell_type": "code",
      "metadata": {
        "id": "a11ZqEzUBmOQ"
      },
      "source": [
        "data = pd.read_csv('BSE_30.csv')"
      ],
      "execution_count": null,
      "outputs": []
    },
    {
      "cell_type": "code",
      "metadata": {
        "id": "UiLRxKJUBmOS",
        "outputId": "5c5bf669-f35c-4c74-85d5-642eab36fbdd"
      },
      "source": [
        "data['Symbol'].value_counts()"
      ],
      "execution_count": null,
      "outputs": [
        {
          "output_type": "execute_result",
          "data": {
            "text/plain": [
              "AXISBANK      2469\n",
              "ITC           2469\n",
              "SUNPHARMA     2469\n",
              "YESBANK       2469\n",
              "WIPRO         2469\n",
              "ADANIPORTS    2469\n",
              "MARUTI        2469\n",
              "INFY          2469\n",
              "HDFC          2469\n",
              "KOTAKBANK     2469\n",
              "INDUSINDBK    2469\n",
              "LT            2469\n",
              "TATAMOTORS    2469\n",
              "ONGC          2469\n",
              "RELIANCE      2469\n",
              "TCS           2469\n",
              "TATASTEEL     2469\n",
              "BHARTIARTL    2469\n",
              "HEROMOTOCO    2469\n",
              "HDFCBANK      2469\n",
              "POWERGRID     2469\n",
              "ICICIBANK     2469\n",
              "SBIN          2469\n",
              "HINDUNILVR    2469\n",
              "ASIANPAINT    2469\n",
              "DRREDDY       2469\n",
              "M&M           2469\n",
              "BAJAJ-AUTO    2456\n",
              "TATAMTRDVR    2345\n",
              "COALINDIA     1852\n",
              "Name: Symbol, dtype: int64"
            ]
          },
          "metadata": {
            "tags": []
          },
          "execution_count": 144
        }
      ]
    },
    {
      "cell_type": "markdown",
      "metadata": {
        "id": "NcqY1ceeBmOW"
      },
      "source": [
        "### Preparing the data"
      ]
    },
    {
      "cell_type": "code",
      "metadata": {
        "id": "IwFzXzX_BmOX"
      },
      "source": [
        "def RSI(series, period):\n",
        "    delta = series.diff().dropna()\n",
        "    u = delta * 0\n",
        "    d = u.copy()\n",
        "    u[delta > 0] = delta[delta > 0]\n",
        "    d[delta < 0] = -delta[delta < 0]\n",
        "    u[u.index[period-1]] = np.mean( u[:period] ) #first value is sum of avg gains\n",
        "    u = u.drop(u.index[:(period-1)])\n",
        "    d[d.index[period-1]] = np.mean( d[:period] ) #first value is sum of avg losses\n",
        "    d = d.drop(d.index[:(period-1)])\n",
        "    rs = pd.DataFrame.ewm(u, com=period-1, adjust=False).mean()/pd.DataFrame.ewm(d, com=period-1, adjust=False).mean()\n",
        "    return 100 - (100/(1 + rs))"
      ],
      "execution_count": null,
      "outputs": []
    },
    {
      "cell_type": "code",
      "metadata": {
        "scrolled": true,
        "id": "6NLupCP0BmOZ"
      },
      "source": [
        "def prepare_data(my_data, x):\n",
        "    my_data['RSI'] = RSI(my_data['Close'], 14)\n",
        "    my_data['MACD'] = pd.DataFrame.ewm(my_data['Close'], span = 12).mean() - pd.DataFrame.ewm(my_data['Close'], span = 26).mean()\n",
        "    my_data['MA5'] = pd.DataFrame.rolling(my_data['Close'], window = 6).mean()\n",
        "    my_data['MA12'] = pd.DataFrame.rolling(my_data['Close'], window = 13).mean()\n",
        "    my_data['MA5_disc'] = (my_data['Close'] - my_data['MA5'])/(my_data['MA5'] - (my_data['Close'])/6)\n",
        "    my_data['MA12_disc'] = (my_data['Close'] - my_data['MA12'])/(my_data['MA12'] - (my_data['Close'])/13)\n",
        "    my_data['PROC'] = 100*pd.DataFrame.pct_change(my_data['Close'], periods = 14)\n",
        "    my_data['SOC'] = 100*(my_data['Close'] - pd.DataFrame.rolling(my_data['Low'], window = 14).min())/(pd.DataFrame.rolling(my_data['High'], window = 14).max() - pd.DataFrame.rolling(my_data['Low'], window = 14).min())\n",
        "    my_data['Y'] = pd.DataFrame.pct_change(my_data['Close'])\n",
        "    my_data.loc[my_data['Y']> x,'Y'] = 1\n",
        "    my_data.loc[my_data['Y']< -1*x,'Y'] = -1\n",
        "    my_data.loc[abs(my_data['Y']) != 1, 'Y'] = 0\n",
        "    my_data.loc[my_data['MA5_disc']> 0.014,'MA5_disc'] = 1\n",
        "    my_data.loc[my_data['MA5_disc']< -1*0.014,'MA5_disc'] = -1\n",
        "    my_data.loc[abs(my_data['MA5_disc']) != 1, 'MA5_disc'] = 0    \n",
        "    my_data.loc[my_data['MA12_disc']> 0.018,'MA12_disc'] = 1\n",
        "    my_data.loc[my_data['MA12_disc']< -1*0.018,'MA12_disc'] = -1\n",
        "    my_data.loc[abs(my_data['MA12_disc']) != 1, 'MA12_disc'] = 0\n",
        "    my_data.dropna(inplace = True)\n",
        "    return my_data[['RSI','MACD', 'MA5', 'MA12','MA5_disc', 'MA12_disc', 'PROC', 'SOC', 'Y']]\n"
      ],
      "execution_count": null,
      "outputs": []
    },
    {
      "cell_type": "code",
      "metadata": {
        "id": "Swvu7XVDBmOb"
      },
      "source": [
        "my_data = data.loc[data.Symbol == \"ADANIPORTS\"]"
      ],
      "execution_count": null,
      "outputs": []
    },
    {
      "cell_type": "markdown",
      "metadata": {
        "id": "Mc98TbJRBmOc"
      },
      "source": [
        "### Using grid search to find the optimum value of x which splits the decision variable equally"
      ]
    },
    {
      "cell_type": "code",
      "metadata": {
        "id": "0fZ00RNZBmOe",
        "outputId": "ac1e601d-f904-403b-fe37-0939317e8493"
      },
      "source": [
        "counts = pd.DataFrame()\n",
        "for x in [0,0.2,0.4,0.6,0.8,1.2,1.4,1.6,1.8]:\n",
        "    temp = prepare_data(my_data, 0.01*x)\n",
        "    counts['x ='+str(x) + '%'] = temp['Y'].value_counts()/temp['Y'].count()*100  \n",
        "counts"
      ],
      "execution_count": null,
      "outputs": [
        {
          "output_type": "execute_result",
          "data": {
            "text/html": [
              "<div>\n",
              "<style scoped>\n",
              "    .dataframe tbody tr th:only-of-type {\n",
              "        vertical-align: middle;\n",
              "    }\n",
              "\n",
              "    .dataframe tbody tr th {\n",
              "        vertical-align: top;\n",
              "    }\n",
              "\n",
              "    .dataframe thead th {\n",
              "        text-align: right;\n",
              "    }\n",
              "</style>\n",
              "<table border=\"1\" class=\"dataframe\">\n",
              "  <thead>\n",
              "    <tr style=\"text-align: right;\">\n",
              "      <th></th>\n",
              "      <th>x =0%</th>\n",
              "      <th>x =0.2%</th>\n",
              "      <th>x =0.4%</th>\n",
              "      <th>x =0.6%</th>\n",
              "      <th>x =0.8%</th>\n",
              "      <th>x =1.2%</th>\n",
              "      <th>x =1.4%</th>\n",
              "      <th>x =1.6%</th>\n",
              "      <th>x =1.8%</th>\n",
              "    </tr>\n",
              "  </thead>\n",
              "  <tbody>\n",
              "    <tr>\n",
              "      <th>-1.0</th>\n",
              "      <td>49.850619</td>\n",
              "      <td>44.611421</td>\n",
              "      <td>40.950324</td>\n",
              "      <td>37.244676</td>\n",
              "      <td>33.624836</td>\n",
              "      <td>26.836780</td>\n",
              "      <td>23.638778</td>\n",
              "      <td>20.935412</td>\n",
              "      <td>18.287763</td>\n",
              "    </tr>\n",
              "    <tr>\n",
              "      <th>1.0</th>\n",
              "      <td>49.253094</td>\n",
              "      <td>45.556033</td>\n",
              "      <td>41.987041</td>\n",
              "      <td>37.809648</td>\n",
              "      <td>33.537385</td>\n",
              "      <td>26.924769</td>\n",
              "      <td>24.966799</td>\n",
              "      <td>22.316258</td>\n",
              "      <td>19.811744</td>\n",
              "    </tr>\n",
              "    <tr>\n",
              "      <th>0.0</th>\n",
              "      <td>0.896287</td>\n",
              "      <td>9.832546</td>\n",
              "      <td>17.062635</td>\n",
              "      <td>24.945676</td>\n",
              "      <td>32.837779</td>\n",
              "      <td>46.238451</td>\n",
              "      <td>51.394422</td>\n",
              "      <td>56.748330</td>\n",
              "      <td>61.900493</td>\n",
              "    </tr>\n",
              "  </tbody>\n",
              "</table>\n",
              "</div>"
            ],
            "text/plain": [
              "          x =0%    x =0.2%    x =0.4%    x =0.6%    x =0.8%    x =1.2%  \\\n",
              "-1.0  49.850619  44.611421  40.950324  37.244676  33.624836  26.836780   \n",
              " 1.0  49.253094  45.556033  41.987041  37.809648  33.537385  26.924769   \n",
              " 0.0   0.896287   9.832546  17.062635  24.945676  32.837779  46.238451   \n",
              "\n",
              "        x =1.4%    x =1.6%    x =1.8%  \n",
              "-1.0  23.638778  20.935412  18.287763  \n",
              " 1.0  24.966799  22.316258  19.811744  \n",
              " 0.0  51.394422  56.748330  61.900493  "
            ]
          },
          "metadata": {
            "tags": []
          },
          "execution_count": 189
        }
      ]
    },
    {
      "cell_type": "code",
      "metadata": {
        "id": "-Ui2aZGfBmOh"
      },
      "source": [
        "my_data = prepare_data(my_data, 0.008)"
      ],
      "execution_count": null,
      "outputs": []
    },
    {
      "cell_type": "markdown",
      "metadata": {
        "id": "lchRRuToBmOi"
      },
      "source": [
        "### EDA"
      ]
    },
    {
      "cell_type": "code",
      "metadata": {
        "id": "DUlFU7DlBmOj",
        "outputId": "a64edf14-b7b4-40b6-be16-2e176ef0e137"
      },
      "source": [
        "print(my_data['MA5_disc'].value_counts())\n",
        "print(my_data['MA12_disc'].value_counts())"
      ],
      "execution_count": null,
      "outputs": [
        {
          "output_type": "stream",
          "text": [
            " 1.0    790\n",
            " 0.0    785\n",
            "-1.0    642\n",
            "Name: MA5_disc, dtype: int64\n",
            " 1.0    848\n",
            " 0.0    712\n",
            "-1.0    657\n",
            "Name: MA12_disc, dtype: int64\n"
          ],
          "name": "stdout"
        }
      ]
    },
    {
      "cell_type": "code",
      "metadata": {
        "scrolled": true,
        "id": "ldv-vhVHBmOk",
        "outputId": "d8cc677c-16c8-4afc-ad0f-5cff78c00540"
      },
      "source": [
        "my_data.head()"
      ],
      "execution_count": null,
      "outputs": [
        {
          "output_type": "execute_result",
          "data": {
            "text/html": [
              "<div>\n",
              "<style scoped>\n",
              "    .dataframe tbody tr th:only-of-type {\n",
              "        vertical-align: middle;\n",
              "    }\n",
              "\n",
              "    .dataframe tbody tr th {\n",
              "        vertical-align: top;\n",
              "    }\n",
              "\n",
              "    .dataframe thead th {\n",
              "        text-align: right;\n",
              "    }\n",
              "</style>\n",
              "<table border=\"1\" class=\"dataframe\">\n",
              "  <thead>\n",
              "    <tr style=\"text-align: right;\">\n",
              "      <th></th>\n",
              "      <th>RSI</th>\n",
              "      <th>MACD</th>\n",
              "      <th>MA5</th>\n",
              "      <th>MA12</th>\n",
              "      <th>MA5_disc</th>\n",
              "      <th>MA12_disc</th>\n",
              "      <th>PROC</th>\n",
              "      <th>SOC</th>\n",
              "      <th>Y</th>\n",
              "    </tr>\n",
              "  </thead>\n",
              "  <tbody>\n",
              "    <tr>\n",
              "      <th>154</th>\n",
              "      <td>43.317337</td>\n",
              "      <td>-0.854014</td>\n",
              "      <td>58.161667</td>\n",
              "      <td>61.605385</td>\n",
              "      <td>1.0</td>\n",
              "      <td>1.0</td>\n",
              "      <td>-5.713450</td>\n",
              "      <td>56.265477</td>\n",
              "      <td>1.0</td>\n",
              "    </tr>\n",
              "    <tr>\n",
              "      <th>155</th>\n",
              "      <td>40.395297</td>\n",
              "      <td>-0.652916</td>\n",
              "      <td>59.020001</td>\n",
              "      <td>61.079232</td>\n",
              "      <td>1.0</td>\n",
              "      <td>1.0</td>\n",
              "      <td>-9.355018</td>\n",
              "      <td>46.557707</td>\n",
              "      <td>-1.0</td>\n",
              "    </tr>\n",
              "    <tr>\n",
              "      <th>156</th>\n",
              "      <td>39.288585</td>\n",
              "      <td>-0.538481</td>\n",
              "      <td>59.961667</td>\n",
              "      <td>60.594616</td>\n",
              "      <td>1.0</td>\n",
              "      <td>1.0</td>\n",
              "      <td>-10.976313</td>\n",
              "      <td>42.793453</td>\n",
              "      <td>-1.0</td>\n",
              "    </tr>\n",
              "    <tr>\n",
              "      <th>157</th>\n",
              "      <td>40.805287</td>\n",
              "      <td>-0.402618</td>\n",
              "      <td>61.188334</td>\n",
              "      <td>60.413847</td>\n",
              "      <td>1.0</td>\n",
              "      <td>1.0</td>\n",
              "      <td>-8.301447</td>\n",
              "      <td>46.062398</td>\n",
              "      <td>1.0</td>\n",
              "    </tr>\n",
              "    <tr>\n",
              "      <th>158</th>\n",
              "      <td>38.542850</td>\n",
              "      <td>-0.385684</td>\n",
              "      <td>62.411667</td>\n",
              "      <td>60.059231</td>\n",
              "      <td>-1.0</td>\n",
              "      <td>0.0</td>\n",
              "      <td>-5.862337</td>\n",
              "      <td>53.469405</td>\n",
              "      <td>-1.0</td>\n",
              "    </tr>\n",
              "  </tbody>\n",
              "</table>\n",
              "</div>"
            ],
            "text/plain": [
              "           RSI      MACD        MA5       MA12  MA5_disc  MA12_disc  \\\n",
              "154  43.317337 -0.854014  58.161667  61.605385       1.0        1.0   \n",
              "155  40.395297 -0.652916  59.020001  61.079232       1.0        1.0   \n",
              "156  39.288585 -0.538481  59.961667  60.594616       1.0        1.0   \n",
              "157  40.805287 -0.402618  61.188334  60.413847       1.0        1.0   \n",
              "158  38.542850 -0.385684  62.411667  60.059231      -1.0        0.0   \n",
              "\n",
              "          PROC        SOC    Y  \n",
              "154  -5.713450  56.265477  1.0  \n",
              "155  -9.355018  46.557707 -1.0  \n",
              "156 -10.976313  42.793453 -1.0  \n",
              "157  -8.301447  46.062398  1.0  \n",
              "158  -5.862337  53.469405 -1.0  "
            ]
          },
          "metadata": {
            "tags": []
          },
          "execution_count": 193
        }
      ]
    },
    {
      "cell_type": "code",
      "metadata": {
        "scrolled": true,
        "id": "9-uPoDlfBmOm",
        "outputId": "77f2c92f-a580-40d7-f278-82f8e64cd9e6"
      },
      "source": [
        "my_data.describe()"
      ],
      "execution_count": null,
      "outputs": [
        {
          "output_type": "execute_result",
          "data": {
            "text/html": [
              "<div>\n",
              "<style scoped>\n",
              "    .dataframe tbody tr th:only-of-type {\n",
              "        vertical-align: middle;\n",
              "    }\n",
              "\n",
              "    .dataframe tbody tr th {\n",
              "        vertical-align: top;\n",
              "    }\n",
              "\n",
              "    .dataframe thead th {\n",
              "        text-align: right;\n",
              "    }\n",
              "</style>\n",
              "<table border=\"1\" class=\"dataframe\">\n",
              "  <thead>\n",
              "    <tr style=\"text-align: right;\">\n",
              "      <th></th>\n",
              "      <th>RSI</th>\n",
              "      <th>MACD</th>\n",
              "      <th>MA5</th>\n",
              "      <th>MA12</th>\n",
              "      <th>MA5_disc</th>\n",
              "      <th>MA12_disc</th>\n",
              "      <th>PROC</th>\n",
              "      <th>SOC</th>\n",
              "      <th>Y</th>\n",
              "    </tr>\n",
              "  </thead>\n",
              "  <tbody>\n",
              "    <tr>\n",
              "      <th>count</th>\n",
              "      <td>2217.000000</td>\n",
              "      <td>2217.000000</td>\n",
              "      <td>2217.000000</td>\n",
              "      <td>2217.000000</td>\n",
              "      <td>2217.000000</td>\n",
              "      <td>2217.000000</td>\n",
              "      <td>2217.000000</td>\n",
              "      <td>2217.000000</td>\n",
              "      <td>2217.000000</td>\n",
              "    </tr>\n",
              "    <tr>\n",
              "      <th>mean</th>\n",
              "      <td>52.112713</td>\n",
              "      <td>0.993810</td>\n",
              "      <td>313.974102</td>\n",
              "      <td>313.489922</td>\n",
              "      <td>0.043302</td>\n",
              "      <td>0.074876</td>\n",
              "      <td>2.095299</td>\n",
              "      <td>53.357607</td>\n",
              "      <td>0.012179</td>\n",
              "    </tr>\n",
              "    <tr>\n",
              "      <th>std</th>\n",
              "      <td>12.346387</td>\n",
              "      <td>8.167138</td>\n",
              "      <td>141.413990</td>\n",
              "      <td>141.648457</td>\n",
              "      <td>0.814424</td>\n",
              "      <td>0.837299</td>\n",
              "      <td>10.683175</td>\n",
              "      <td>29.983597</td>\n",
              "      <td>0.828386</td>\n",
              "    </tr>\n",
              "    <tr>\n",
              "      <th>min</th>\n",
              "      <td>16.915279</td>\n",
              "      <td>-23.104885</td>\n",
              "      <td>26.427234</td>\n",
              "      <td>26.798631</td>\n",
              "      <td>-1.000000</td>\n",
              "      <td>-1.000000</td>\n",
              "      <td>-24.699421</td>\n",
              "      <td>1.313549</td>\n",
              "      <td>-1.000000</td>\n",
              "    </tr>\n",
              "    <tr>\n",
              "      <th>25%</th>\n",
              "      <td>43.088494</td>\n",
              "      <td>-3.865393</td>\n",
              "      <td>205.215998</td>\n",
              "      <td>203.354923</td>\n",
              "      <td>-1.000000</td>\n",
              "      <td>-1.000000</td>\n",
              "      <td>-4.687719</td>\n",
              "      <td>26.351094</td>\n",
              "      <td>-1.000000</td>\n",
              "    </tr>\n",
              "    <tr>\n",
              "      <th>50%</th>\n",
              "      <td>52.129092</td>\n",
              "      <td>1.371149</td>\n",
              "      <td>312.925003</td>\n",
              "      <td>314.819233</td>\n",
              "      <td>0.000000</td>\n",
              "      <td>0.000000</td>\n",
              "      <td>1.077009</td>\n",
              "      <td>55.895988</td>\n",
              "      <td>0.000000</td>\n",
              "    </tr>\n",
              "    <tr>\n",
              "      <th>75%</th>\n",
              "      <td>61.773123</td>\n",
              "      <td>6.319819</td>\n",
              "      <td>431.796336</td>\n",
              "      <td>431.030771</td>\n",
              "      <td>1.000000</td>\n",
              "      <td>1.000000</td>\n",
              "      <td>7.450301</td>\n",
              "      <td>81.216924</td>\n",
              "      <td>1.000000</td>\n",
              "    </tr>\n",
              "    <tr>\n",
              "      <th>max</th>\n",
              "      <td>87.138946</td>\n",
              "      <td>23.501777</td>\n",
              "      <td>588.873840</td>\n",
              "      <td>576.668006</td>\n",
              "      <td>1.000000</td>\n",
              "      <td>1.000000</td>\n",
              "      <td>74.767033</td>\n",
              "      <td>99.132144</td>\n",
              "      <td>1.000000</td>\n",
              "    </tr>\n",
              "  </tbody>\n",
              "</table>\n",
              "</div>"
            ],
            "text/plain": [
              "               RSI         MACD          MA5         MA12     MA5_disc  \\\n",
              "count  2217.000000  2217.000000  2217.000000  2217.000000  2217.000000   \n",
              "mean     52.112713     0.993810   313.974102   313.489922     0.043302   \n",
              "std      12.346387     8.167138   141.413990   141.648457     0.814424   \n",
              "min      16.915279   -23.104885    26.427234    26.798631    -1.000000   \n",
              "25%      43.088494    -3.865393   205.215998   203.354923    -1.000000   \n",
              "50%      52.129092     1.371149   312.925003   314.819233     0.000000   \n",
              "75%      61.773123     6.319819   431.796336   431.030771     1.000000   \n",
              "max      87.138946    23.501777   588.873840   576.668006     1.000000   \n",
              "\n",
              "         MA12_disc         PROC          SOC            Y  \n",
              "count  2217.000000  2217.000000  2217.000000  2217.000000  \n",
              "mean      0.074876     2.095299    53.357607     0.012179  \n",
              "std       0.837299    10.683175    29.983597     0.828386  \n",
              "min      -1.000000   -24.699421     1.313549    -1.000000  \n",
              "25%      -1.000000    -4.687719    26.351094    -1.000000  \n",
              "50%       0.000000     1.077009    55.895988     0.000000  \n",
              "75%       1.000000     7.450301    81.216924     1.000000  \n",
              "max       1.000000    74.767033    99.132144     1.000000  "
            ]
          },
          "metadata": {
            "tags": []
          },
          "execution_count": 131
        }
      ]
    },
    {
      "cell_type": "code",
      "metadata": {
        "id": "Os5rCf05BmOn"
      },
      "source": [
        "my_data.to_csv('Tesla.csv')"
      ],
      "execution_count": null,
      "outputs": []
    },
    {
      "cell_type": "markdown",
      "metadata": {
        "id": "OJMbmWfNBmOo"
      },
      "source": [
        "### Discretisation techniques"
      ]
    },
    {
      "cell_type": "code",
      "metadata": {
        "id": "NLFd7o0_BmOp"
      },
      "source": [
        "my_data = pd.read_csv('Tesla.csv')"
      ],
      "execution_count": null,
      "outputs": []
    },
    {
      "cell_type": "code",
      "metadata": {
        "id": "wjc31AqOBmOp"
      },
      "source": [
        "my_data['RSI_bin'] = pd.qcut(my_data['RSI'], q=5)\n",
        "my_data['MA5_bin'] = pd.cut(my_data['MA5'], bins=10)\n",
        "my_data['MACD_bin'] = pd.qcut(my_data['MACD'], q=5)\n",
        "my_data['MA12_bin'] = pd.cut(my_data['MA12'], bins=10)\n",
        "my_data['PROC_bin'] = pd.qcut(my_data['PROC'], q=5)\n",
        "my_data['SOC_bin'] = pd.qcut(my_data['SOC'], q=5)"
      ],
      "execution_count": null,
      "outputs": []
    },
    {
      "cell_type": "code",
      "metadata": {
        "id": "Xrr8-zisBmOr"
      },
      "source": [
        "my_data[['RSI_bin','MA5_bin','MACD_bin', 'MA12_bin', 'PROC_bin', 'SOC_bin','Y']].to_csv('dataset.csv', index = False)"
      ],
      "execution_count": null,
      "outputs": []
    },
    {
      "cell_type": "code",
      "metadata": {
        "scrolled": false,
        "id": "mefbXzp7BmOr"
      },
      "source": [
        "pCorrs = my_data[['RSI','MACD', 'MA5', 'MA12', 'PROC', 'SOC', 'Y']].corr(method = 'pearson').round(2)\n",
        "plt.figure(figsize=(12,8))    \n",
        "ax = sns.heatmap(pCorrs, cmap= plt.cm.RdBu)"
      ],
      "execution_count": null,
      "outputs": []
    },
    {
      "cell_type": "markdown",
      "metadata": {
        "id": "0T3bN19uBmOt"
      },
      "source": [
        "# Correlation"
      ]
    },
    {
      "cell_type": "code",
      "metadata": {
        "id": "u9y5MzjyBmOu"
      },
      "source": [
        "pCorrs = my_data[['RSI','MACD', 'MA5', 'MA12', 'PROC', 'SOC', 'Y']].corr(method = 'kendall').round(2)\n",
        "plt.figure(figsize=(12,8))    \n",
        "ax = sns.heatmap(pCorrs, cmap= plt.cm.RdBu)"
      ],
      "execution_count": null,
      "outputs": []
    },
    {
      "cell_type": "markdown",
      "metadata": {
        "id": "6-HelVniBmOv"
      },
      "source": [
        "# Classifiers"
      ]
    },
    {
      "cell_type": "code",
      "metadata": {
        "id": "HfPgg8cTBmOv"
      },
      "source": [
        "from sklearn.linear_model import LogisticRegression\n",
        "from sklearn.svm import SVC\n",
        "from sklearn.neural_network import MLPClassifier\n",
        "from sklearn.ensemble import RandomForestClassifier\n",
        "from sklearn.metrics import classification_report, accuracy_score\n",
        "from sklearn.model_selection import train_test_split\n",
        "from sklearn.naive_bayes import GaussianNB"
      ],
      "execution_count": null,
      "outputs": []
    },
    {
      "cell_type": "code",
      "metadata": {
        "id": "tygW-WcaBmOw",
        "colab": {
          "base_uri": "https://localhost:8080/",
          "height": 195
        },
        "outputId": "8802003c-e65a-4d84-cbe5-cd7fb240f224"
      },
      "source": [
        "my_data = pd.read_csv('MA1.8b.csv')\n",
        "my_data.head()"
      ],
      "execution_count": null,
      "outputs": [
        {
          "output_type": "execute_result",
          "data": {
            "text/html": [
              "<div>\n",
              "<style scoped>\n",
              "    .dataframe tbody tr th:only-of-type {\n",
              "        vertical-align: middle;\n",
              "    }\n",
              "\n",
              "    .dataframe tbody tr th {\n",
              "        vertical-align: top;\n",
              "    }\n",
              "\n",
              "    .dataframe thead th {\n",
              "        text-align: right;\n",
              "    }\n",
              "</style>\n",
              "<table border=\"1\" class=\"dataframe\">\n",
              "  <thead>\n",
              "    <tr style=\"text-align: right;\">\n",
              "      <th></th>\n",
              "      <th>RSI</th>\n",
              "      <th>MACD</th>\n",
              "      <th>MA5_disc</th>\n",
              "      <th>MA12_disc</th>\n",
              "      <th>PROC</th>\n",
              "      <th>SOC</th>\n",
              "      <th>Y</th>\n",
              "    </tr>\n",
              "  </thead>\n",
              "  <tbody>\n",
              "    <tr>\n",
              "      <th>0</th>\n",
              "      <td>67.973357</td>\n",
              "      <td>2.762031</td>\n",
              "      <td>0</td>\n",
              "      <td>1</td>\n",
              "      <td>15.349000</td>\n",
              "      <td>68.220347</td>\n",
              "      <td>0</td>\n",
              "    </tr>\n",
              "    <tr>\n",
              "      <th>1</th>\n",
              "      <td>62.032024</td>\n",
              "      <td>2.402436</td>\n",
              "      <td>-1</td>\n",
              "      <td>0</td>\n",
              "      <td>9.979782</td>\n",
              "      <td>52.005648</td>\n",
              "      <td>-1</td>\n",
              "    </tr>\n",
              "    <tr>\n",
              "      <th>2</th>\n",
              "      <td>60.330327</td>\n",
              "      <td>1.991939</td>\n",
              "      <td>-1</td>\n",
              "      <td>0</td>\n",
              "      <td>7.056258</td>\n",
              "      <td>45.924845</td>\n",
              "      <td>0</td>\n",
              "    </tr>\n",
              "    <tr>\n",
              "      <th>3</th>\n",
              "      <td>51.790592</td>\n",
              "      <td>1.047833</td>\n",
              "      <td>-1</td>\n",
              "      <td>-1</td>\n",
              "      <td>0.491943</td>\n",
              "      <td>18.179167</td>\n",
              "      <td>-1</td>\n",
              "    </tr>\n",
              "    <tr>\n",
              "      <th>4</th>\n",
              "      <td>48.784944</td>\n",
              "      <td>0.060636</td>\n",
              "      <td>-1</td>\n",
              "      <td>-1</td>\n",
              "      <td>-5.593844</td>\n",
              "      <td>5.184122</td>\n",
              "      <td>-1</td>\n",
              "    </tr>\n",
              "  </tbody>\n",
              "</table>\n",
              "</div>"
            ],
            "text/plain": [
              "         RSI      MACD  MA5_disc  MA12_disc       PROC        SOC  Y\n",
              "0  67.973357  2.762031         0          1  15.349000  68.220347  0\n",
              "1  62.032024  2.402436        -1          0   9.979782  52.005648 -1\n",
              "2  60.330327  1.991939        -1          0   7.056258  45.924845  0\n",
              "3  51.790592  1.047833        -1         -1   0.491943  18.179167 -1\n",
              "4  48.784944  0.060636        -1         -1  -5.593844   5.184122 -1"
            ]
          },
          "metadata": {
            "tags": []
          },
          "execution_count": 4
        }
      ]
    },
    {
      "cell_type": "code",
      "metadata": {
        "id": "OkwFm1ltBmOy",
        "colab": {
          "base_uri": "https://localhost:8080/"
        },
        "outputId": "1e6f25c9-e8b7-443e-c5e0-040347c2da70"
      },
      "source": [
        "rfc = MLPClassifier()\n",
        "x_train, x_test, y_train, y_test = train_test_split(my_data[['RSI', 'PROC']], my_data['Y'], test_size = 0.2)\n",
        "rfc.fit(x_train,y_train)\n",
        "y_pred = rfc.predict(x_test)\n",
        "print(classification_report(y_test,y_pred))\n",
        "print(accuracy_score(y_test,y_pred))"
      ],
      "execution_count": null,
      "outputs": [
        {
          "output_type": "stream",
          "text": [
            "              precision    recall  f1-score   support\n",
            "\n",
            "          -1       1.00      0.02      0.04        88\n",
            "           0       0.60      0.99      0.75       278\n",
            "           1       0.67      0.04      0.07       103\n",
            "\n",
            "    accuracy                           0.60       469\n",
            "   macro avg       0.76      0.35      0.29       469\n",
            "weighted avg       0.69      0.60      0.47       469\n",
            "\n",
            "0.6012793176972282\n"
          ],
          "name": "stdout"
        }
      ]
    },
    {
      "cell_type": "code",
      "metadata": {
        "id": "qm8-6qlnBmOz"
      },
      "source": [
        "dataset = my_data.copy()"
      ],
      "execution_count": null,
      "outputs": []
    },
    {
      "cell_type": "code",
      "metadata": {
        "scrolled": true,
        "id": "KfjxhH6MBmO0",
        "outputId": "5c11a003-a76a-4bc1-ce9c-028d32dce6e3"
      },
      "source": [
        "dataset.head()"
      ],
      "execution_count": null,
      "outputs": [
        {
          "output_type": "execute_result",
          "data": {
            "text/html": [
              "<div>\n",
              "<style scoped>\n",
              "    .dataframe tbody tr th:only-of-type {\n",
              "        vertical-align: middle;\n",
              "    }\n",
              "\n",
              "    .dataframe tbody tr th {\n",
              "        vertical-align: top;\n",
              "    }\n",
              "\n",
              "    .dataframe thead th {\n",
              "        text-align: right;\n",
              "    }\n",
              "</style>\n",
              "<table border=\"1\" class=\"dataframe\">\n",
              "  <thead>\n",
              "    <tr style=\"text-align: right;\">\n",
              "      <th></th>\n",
              "      <th>RSI</th>\n",
              "      <th>MACD</th>\n",
              "      <th>MA5</th>\n",
              "      <th>MA12</th>\n",
              "      <th>MA5_disc</th>\n",
              "      <th>MA12_disc</th>\n",
              "      <th>PROC</th>\n",
              "      <th>SOC</th>\n",
              "      <th>Y</th>\n",
              "      <th>RSI_bin</th>\n",
              "      <th>MA5_bin</th>\n",
              "      <th>MACD_bin</th>\n",
              "      <th>MA12_bin</th>\n",
              "      <th>PROC_bin</th>\n",
              "      <th>SOC_bin</th>\n",
              "    </tr>\n",
              "  </thead>\n",
              "  <tbody>\n",
              "    <tr>\n",
              "      <th>154</th>\n",
              "      <td>43.317337</td>\n",
              "      <td>-0.854014</td>\n",
              "      <td>58.161667</td>\n",
              "      <td>61.605385</td>\n",
              "      <td>1.0</td>\n",
              "      <td>1.0</td>\n",
              "      <td>-5.713450</td>\n",
              "      <td>56.265477</td>\n",
              "      <td>1.0</td>\n",
              "      <td>(42.662, 49.34]</td>\n",
              "      <td>(57.781, 96.2]</td>\n",
              "      <td>(-2.399, -0.0188]</td>\n",
              "      <td>(59.545, 97.057]</td>\n",
              "      <td>(-27.871000000000002, -5.712]</td>\n",
              "      <td>(43.623, 65.649]</td>\n",
              "    </tr>\n",
              "    <tr>\n",
              "      <th>155</th>\n",
              "      <td>40.395297</td>\n",
              "      <td>-0.652916</td>\n",
              "      <td>59.020001</td>\n",
              "      <td>61.079232</td>\n",
              "      <td>1.0</td>\n",
              "      <td>1.0</td>\n",
              "      <td>-9.355018</td>\n",
              "      <td>46.557707</td>\n",
              "      <td>-1.0</td>\n",
              "      <td>(20.249, 42.662]</td>\n",
              "      <td>(57.781, 96.2]</td>\n",
              "      <td>(-2.399, -0.0188]</td>\n",
              "      <td>(59.545, 97.057]</td>\n",
              "      <td>(-27.871000000000002, -5.712]</td>\n",
              "      <td>(43.623, 65.649]</td>\n",
              "    </tr>\n",
              "    <tr>\n",
              "      <th>156</th>\n",
              "      <td>39.288585</td>\n",
              "      <td>-0.538481</td>\n",
              "      <td>59.961667</td>\n",
              "      <td>60.594616</td>\n",
              "      <td>1.0</td>\n",
              "      <td>1.0</td>\n",
              "      <td>-10.976313</td>\n",
              "      <td>42.793453</td>\n",
              "      <td>-1.0</td>\n",
              "      <td>(20.249, 42.662]</td>\n",
              "      <td>(57.781, 96.2]</td>\n",
              "      <td>(-2.399, -0.0188]</td>\n",
              "      <td>(59.545, 97.057]</td>\n",
              "      <td>(-27.871000000000002, -5.712]</td>\n",
              "      <td>(22.449, 43.623]</td>\n",
              "    </tr>\n",
              "    <tr>\n",
              "      <th>157</th>\n",
              "      <td>40.805287</td>\n",
              "      <td>-0.402618</td>\n",
              "      <td>61.188334</td>\n",
              "      <td>60.413847</td>\n",
              "      <td>1.0</td>\n",
              "      <td>1.0</td>\n",
              "      <td>-8.301447</td>\n",
              "      <td>46.062398</td>\n",
              "      <td>1.0</td>\n",
              "      <td>(20.249, 42.662]</td>\n",
              "      <td>(57.781, 96.2]</td>\n",
              "      <td>(-2.399, -0.0188]</td>\n",
              "      <td>(59.545, 97.057]</td>\n",
              "      <td>(-27.871000000000002, -5.712]</td>\n",
              "      <td>(43.623, 65.649]</td>\n",
              "    </tr>\n",
              "    <tr>\n",
              "      <th>158</th>\n",
              "      <td>38.542850</td>\n",
              "      <td>-0.385684</td>\n",
              "      <td>62.411667</td>\n",
              "      <td>60.059231</td>\n",
              "      <td>-1.0</td>\n",
              "      <td>0.0</td>\n",
              "      <td>-5.862337</td>\n",
              "      <td>53.469405</td>\n",
              "      <td>-1.0</td>\n",
              "      <td>(20.249, 42.662]</td>\n",
              "      <td>(57.781, 96.2]</td>\n",
              "      <td>(-2.399, -0.0188]</td>\n",
              "      <td>(59.545, 97.057]</td>\n",
              "      <td>(-27.871000000000002, -5.712]</td>\n",
              "      <td>(43.623, 65.649]</td>\n",
              "    </tr>\n",
              "  </tbody>\n",
              "</table>\n",
              "</div>"
            ],
            "text/plain": [
              "           RSI      MACD        MA5       MA12  MA5_disc  MA12_disc  \\\n",
              "154  43.317337 -0.854014  58.161667  61.605385       1.0        1.0   \n",
              "155  40.395297 -0.652916  59.020001  61.079232       1.0        1.0   \n",
              "156  39.288585 -0.538481  59.961667  60.594616       1.0        1.0   \n",
              "157  40.805287 -0.402618  61.188334  60.413847       1.0        1.0   \n",
              "158  38.542850 -0.385684  62.411667  60.059231      -1.0        0.0   \n",
              "\n",
              "          PROC        SOC    Y           RSI_bin         MA5_bin  \\\n",
              "154  -5.713450  56.265477  1.0   (42.662, 49.34]  (57.781, 96.2]   \n",
              "155  -9.355018  46.557707 -1.0  (20.249, 42.662]  (57.781, 96.2]   \n",
              "156 -10.976313  42.793453 -1.0  (20.249, 42.662]  (57.781, 96.2]   \n",
              "157  -8.301447  46.062398  1.0  (20.249, 42.662]  (57.781, 96.2]   \n",
              "158  -5.862337  53.469405 -1.0  (20.249, 42.662]  (57.781, 96.2]   \n",
              "\n",
              "              MACD_bin          MA12_bin                       PROC_bin  \\\n",
              "154  (-2.399, -0.0188]  (59.545, 97.057]  (-27.871000000000002, -5.712]   \n",
              "155  (-2.399, -0.0188]  (59.545, 97.057]  (-27.871000000000002, -5.712]   \n",
              "156  (-2.399, -0.0188]  (59.545, 97.057]  (-27.871000000000002, -5.712]   \n",
              "157  (-2.399, -0.0188]  (59.545, 97.057]  (-27.871000000000002, -5.712]   \n",
              "158  (-2.399, -0.0188]  (59.545, 97.057]  (-27.871000000000002, -5.712]   \n",
              "\n",
              "              SOC_bin  \n",
              "154  (43.623, 65.649]  \n",
              "155  (43.623, 65.649]  \n",
              "156  (22.449, 43.623]  \n",
              "157  (43.623, 65.649]  \n",
              "158  (43.623, 65.649]  "
            ]
          },
          "metadata": {
            "tags": []
          },
          "execution_count": 18
        }
      ]
    },
    {
      "cell_type": "markdown",
      "metadata": {
        "id": "luXn7AuRBmO1"
      },
      "source": [
        "## Discretisation"
      ]
    },
    {
      "cell_type": "code",
      "metadata": {
        "id": "FQxArbKPBmO3",
        "outputId": "5c306081-c196-488b-c0b3-bd4e61412374"
      },
      "source": [
        "dataset['RSI_bin'].unique()"
      ],
      "execution_count": null,
      "outputs": [
        {
          "output_type": "execute_result",
          "data": {
            "text/plain": [
              "[(42.662, 49.34], (20.249, 42.662], (49.34, 55.233], (61.804, 84.614], (55.233, 61.804]]\n",
              "Categories (5, interval[float64]): [(20.249, 42.662] < (42.662, 49.34] < (49.34, 55.233] < (55.233, 61.804] < (61.804, 84.614]]"
            ]
          },
          "metadata": {
            "tags": []
          },
          "execution_count": 19
        }
      ]
    },
    {
      "cell_type": "code",
      "metadata": {
        "id": "AvVaXzHwBmO4"
      },
      "source": [
        "dict1 = {pd._libs.interval.Interval(61.287, 84.614):4, pd._libs.interval.Interval(54.876, 61.287):3, pd._libs.interval.Interval(48.988, 54.876):2, pd._libs.interval.Interval(41.987, 48.988):1, pd._libs.interval.Interval(16.924, 41.987):0}"
      ],
      "execution_count": null,
      "outputs": []
    },
    {
      "cell_type": "code",
      "metadata": {
        "id": "2ItbarJPBmO6"
      },
      "source": [
        "dataset['RSI_bin'].replace(dict1, inplace = True)"
      ],
      "execution_count": null,
      "outputs": []
    },
    {
      "cell_type": "code",
      "metadata": {
        "id": "Jhn-tPWuBmO6",
        "outputId": "fbf628e7-873e-4337-d028-02c2aa7c3d57"
      },
      "source": [
        "dataset['MA5_bin'].unique()"
      ],
      "execution_count": null,
      "outputs": [
        {
          "output_type": "execute_result",
          "data": {
            "text/plain": [
              "[(57.781, 96.2], (96.2, 134.238], (134.238, 172.276], (172.276, 210.314], (210.314, 248.352], (248.352, 286.39], (286.39, 324.428], (324.428, 362.466], (362.466, 400.504], (400.504, 438.542]]\n",
              "Categories (10, interval[float64]): [(57.781, 96.2] < (96.2, 134.238] < (134.238, 172.276] < (172.276, 210.314] ... (286.39, 324.428] < (324.428, 362.466] < (362.466, 400.504] < (400.504, 438.542]]"
            ]
          },
          "metadata": {
            "tags": []
          },
          "execution_count": 20
        }
      ]
    },
    {
      "cell_type": "code",
      "metadata": {
        "scrolled": true,
        "id": "5yRojGy0BmO7"
      },
      "source": [
        "dict2 = {pd._libs.interval.Interval(171.388, 209.553):3, pd._libs.interval.Interval(56.512, 95.058):0, pd._libs.interval.Interval(95.058, 133.223):1,pd._libs.interval.Interval(133.223, 171.388):2,  pd._libs.interval.Interval(209.553, 247.718):4, pd._libs.interval.Interval(247.718, 285.882):5,pd._libs.interval.Interval(285.882, 324.047):6,pd._libs.interval.Interval(324.047, 362.212):7, pd._libs.interval.Interval(362.212, 400.377):8, pd._libs.interval.Interval(400.377, 438.542):9}\n",
        "dataset['MA5_bin'].replace(dict2,inplace = True)"
      ],
      "execution_count": null,
      "outputs": []
    },
    {
      "cell_type": "code",
      "metadata": {
        "id": "KR62kVF3BmO9"
      },
      "source": [
        "dataset['MA12_bin'].unique()"
      ],
      "execution_count": null,
      "outputs": []
    },
    {
      "cell_type": "code",
      "metadata": {
        "id": "uVKeujPABmO-"
      },
      "source": [
        "dict3 = {pd._libs.interval.Interval(56.236, 94.082):0, pd._libs.interval.Interval(94.082, 131.553):1, pd._libs.interval.Interval(131.553, 169.024):2, pd._libs.interval.Interval(169.024, 206.496):3,pd._libs.interval.Interval(206.496, 243.967):4, pd._libs.interval.Interval(243.967, 281.438):5,pd._libs.interval.Interval(281.438, 318.909):6, pd._libs.interval.Interval(318.909, 356.381):7, pd._libs.interval.Interval(356.381, 393.852):8,pd._libs.interval.Interval(393.852, 431.323):9}\n",
        "dataset['MA12_bin'].replace(dict3,inplace = True)"
      ],
      "execution_count": null,
      "outputs": []
    },
    {
      "cell_type": "code",
      "metadata": {
        "id": "5egLqD7eBmO_"
      },
      "source": [
        "dataset['MACD_bin'].unique()"
      ],
      "execution_count": null,
      "outputs": []
    },
    {
      "cell_type": "code",
      "metadata": {
        "id": "p0bF_bD6BmPA"
      },
      "source": [
        "dict4 = {pd._libs.interval.Interval(-13.443999999999999, -2.748):0,pd._libs.interval.Interval(-2.748, -0.265):1,pd._libs.interval.Interval(-0.265, 1.84):2,pd._libs.interval.Interval(1.84, 4.344):3,pd._libs.interval.Interval(4.344, 14.56):4}\n",
        "dataset['MACD_bin'].replace(dict4,inplace = True)"
      ],
      "execution_count": null,
      "outputs": []
    },
    {
      "cell_type": "code",
      "metadata": {
        "id": "tPEo7895BmPB"
      },
      "source": [
        "dataset['PROC_bin'].unique()"
      ],
      "execution_count": null,
      "outputs": []
    },
    {
      "cell_type": "code",
      "metadata": {
        "id": "IracrofPBmPC"
      },
      "source": [
        "dict5 = {pd._libs.interval.Interval(-34.361999999999995, -6.243):0, pd._libs.interval.Interval(-6.243, -1.251):1, pd._libs.interval.Interval(-1.251, 2.975):2, pd._libs.interval.Interval(2.975, 7.864):3,pd._libs.interval.Interval(7.864, 59.885):4}\n",
        "dataset['PROC_bin'].replace(dict5,inplace = True)"
      ],
      "execution_count": null,
      "outputs": []
    },
    {
      "cell_type": "code",
      "metadata": {
        "id": "BcjDXqPCBmPC"
      },
      "source": [
        "dataset['SOC_bin'].unique()"
      ],
      "execution_count": null,
      "outputs": []
    },
    {
      "cell_type": "code",
      "metadata": {
        "id": "g06O6O1IBmPD"
      },
      "source": [
        "dict6 = {pd._libs.interval.Interval(0.864, 20.597):0, pd._libs.interval.Interval(20.597, 42.183):1, pd._libs.interval.Interval(42.183, 64.074):2, pd._libs.interval.Interval(64.074, 81.623):3,pd._libs.interval.Interval(81.623, 98.404):4}\n",
        "dataset['SOC_bin'].replace(dict6,inplace = True)"
      ],
      "execution_count": null,
      "outputs": []
    },
    {
      "cell_type": "code",
      "metadata": {
        "id": "F8igFwoPBmPE"
      },
      "source": [
        "dataset.to_csv('dataset_.csv')"
      ],
      "execution_count": null,
      "outputs": []
    },
    {
      "cell_type": "code",
      "metadata": {
        "id": "iZpd0XZ8BmPF"
      },
      "source": [
        "dataset.head()"
      ],
      "execution_count": null,
      "outputs": []
    },
    {
      "cell_type": "code",
      "metadata": {
        "id": "hbZhrM5iBmPG"
      },
      "source": [
        "rfc = MLPClassifier()\n",
        "x_train, x_test, y_train, y_test = train_test_split(dataset[['RSI_bin','MACD_bin', 'MA5_disc', 'MA12_disc', 'PROC_bin', 'SOC_bin']], my_data['Y'], test_size = 0.33)\n",
        "rfc.fit(x_train,y_train)\n",
        "y_pred = rfc.predict(x_test)\n",
        "print(classification_report(y_test,y_pred))\n",
        "print(accuracy_score(y_test,y_pred))"
      ],
      "execution_count": null,
      "outputs": []
    },
    {
      "cell_type": "markdown",
      "metadata": {
        "id": "sjoSygDcBmPI"
      },
      "source": [
        "## LSTMs"
      ]
    },
    {
      "cell_type": "code",
      "metadata": {
        "id": "YYHzVEy2BmPI"
      },
      "source": [
        "dataset = data.loc[data.Symbol == \"ADANIPORTS\"]"
      ],
      "execution_count": null,
      "outputs": []
    },
    {
      "cell_type": "code",
      "metadata": {
        "id": "z2cAwOpCBmPJ"
      },
      "source": [
        "close_data = dataset.filter(['Close'])\n",
        "close_data = close_data.values"
      ],
      "execution_count": null,
      "outputs": []
    },
    {
      "cell_type": "code",
      "metadata": {
        "id": "gPp9zy4JBmPK"
      },
      "source": [
        "training_data_len = math.ceil( len(dataset)*.8)"
      ],
      "execution_count": null,
      "outputs": []
    },
    {
      "cell_type": "code",
      "metadata": {
        "id": "IKQOkpMcBmPL"
      },
      "source": [
        "scaler = MinMaxScaler(feature_range=(0, 1)) \n",
        "scaled_data = scaler.fit_transform(close_data)"
      ],
      "execution_count": null,
      "outputs": []
    },
    {
      "cell_type": "code",
      "metadata": {
        "id": "KMoDxJhABmPL"
      },
      "source": [
        "train_data = scaled_data[0:training_data_len  , : ]\n",
        "x_train=[]\n",
        "y_train = []\n",
        "for i in range(60,len(train_data)):\n",
        "    x_train.append(train_data[i-60:i,0])\n",
        "    y_train.append(train_data[i,0])"
      ],
      "execution_count": null,
      "outputs": []
    },
    {
      "cell_type": "code",
      "metadata": {
        "id": "YISoXSJMBmPM",
        "outputId": "5fa8ec9a-f15f-4c67-8c81-4792d7a96f6c"
      },
      "source": [
        "x_train, y_train = np.array(x_train), np.array(y_train)\n",
        "unique, counts = np.unique(y_train, return_counts=True)\n",
        "print(unique)\n",
        "print(counts)"
      ],
      "execution_count": null,
      "outputs": [
        {
          "output_type": "stream",
          "text": [
            "[0.         0.00231902 0.00279794 ...        nan        nan        nan]\n",
            "[1 1 1 ... 1 1 1]\n"
          ],
          "name": "stdout"
        }
      ]
    },
    {
      "cell_type": "code",
      "metadata": {
        "id": "1rdDdzaMBmPO"
      },
      "source": [
        "x_train = np.reshape(x_train, (x_train.shape[0],x_train.shape[1],1))"
      ],
      "execution_count": null,
      "outputs": []
    },
    {
      "cell_type": "code",
      "metadata": {
        "id": "BEltwQ3sBmPP"
      },
      "source": [
        "#Build the LSTM network model\n",
        "model = Sequential()\n",
        "model.add(LSTM(units=50, return_sequences=True,input_shape=(x_train.shape[1],1)))\n",
        "model.add(LSTM(units=50, return_sequences=False))\n",
        "model.add(Dense(units=25))\n",
        "model.add(Dense(units=1))"
      ],
      "execution_count": null,
      "outputs": []
    },
    {
      "cell_type": "code",
      "metadata": {
        "id": "jEQIAx1kBmPP"
      },
      "source": [
        "#Compile the model\n",
        "model.compile(optimizer='adam', loss='mean_squared_error')\n"
      ],
      "execution_count": null,
      "outputs": []
    },
    {
      "cell_type": "code",
      "metadata": {
        "id": "ci6HvZRmBmPQ",
        "outputId": "69de2f28-bc55-42bc-a9d2-0fdc99ab0b76"
      },
      "source": [
        "#Train the model\n",
        "model.fit(x_train, y_train, batch_size=1, epochs=1)\n"
      ],
      "execution_count": null,
      "outputs": [
        {
          "output_type": "stream",
          "text": [
            "Epoch 1/1\n",
            "1916/1916 [==============================] - 119s 62ms/step - loss: nan\n"
          ],
          "name": "stdout"
        },
        {
          "output_type": "execute_result",
          "data": {
            "text/plain": [
              "<keras.callbacks.History at 0x7f4ad2c47be0>"
            ]
          },
          "metadata": {
            "tags": []
          },
          "execution_count": 94
        }
      ]
    },
    {
      "cell_type": "code",
      "metadata": {
        "id": "hpGfQwpCBmPR"
      },
      "source": [
        "#Test data set\n",
        "test_data = scaled_data[training_data_len - 60: , : ]\n",
        "x_test = []\n",
        "y_test =  dataset[training_data_len : ] #Get all of the rows from index 1603 to the rest and all of the columns (in this case it's only column 'Close'), so 2003 - 1603 = 400 rows of data\n",
        "for i in range(60,len(test_data)):\n",
        "    x_test.append(test_data[i-60:i,0])"
      ],
      "execution_count": null,
      "outputs": []
    },
    {
      "cell_type": "code",
      "metadata": {
        "id": "6-kXJkZLBmPS"
      },
      "source": [
        "#Reshape the data into the shape accepted by the LSTM\n",
        "x_test = np.array(x_test)\n",
        "\n",
        "x_test = np.reshape(x_test, (x_test.shape[0],x_test.shape[1],1))"
      ],
      "execution_count": null,
      "outputs": []
    },
    {
      "cell_type": "code",
      "metadata": {
        "id": "KzW1_QUhBmPT"
      },
      "source": [
        "y_pred = model.predict(x_test) "
      ],
      "execution_count": null,
      "outputs": []
    },
    {
      "cell_type": "code",
      "metadata": {
        "id": "Vl-Q1my9BmPU"
      },
      "source": [
        "y_pred = scaler.inverse_transform(y_pred)#Undo scaling\n"
      ],
      "execution_count": null,
      "outputs": []
    },
    {
      "cell_type": "code",
      "metadata": {
        "tags": [],
        "id": "GBXWt195BmPU"
      },
      "source": [
        "import warnings\n",
        "warnings.filterwarnings('ignore')\n",
        "import matplotlib.pyplot as plt\n",
        "import numpy as np\n",
        "import pandas as pd\n",
        "import random\n",
        "import seaborn as sns\n",
        "from sklearn.preprocessing import MinMaxScaler\n",
        "from keras.models import Sequential\n",
        "from keras.layers import Dense, LSTM\n",
        "RANDOM_SEED = 42\n",
        "random.seed(RANDOM_SEED)\n",
        "np.random.seed(RANDOM_SEED)\n",
        "import math"
      ],
      "execution_count": null,
      "outputs": []
    },
    {
      "cell_type": "code",
      "metadata": {
        "id": "74tqBx-7BmPW"
      },
      "source": [
        "from pmdarima import auto_arima"
      ],
      "execution_count": null,
      "outputs": []
    },
    {
      "cell_type": "code",
      "metadata": {
        "id": "dAffh2RzBmPW",
        "outputId": "cc3c0fd2-7b6a-438e-c509-a0e58a05917c"
      },
      "source": [
        "data = pd.read_csv('adani.csv')\n",
        "data=data.dropna()\n",
        "data=data[:2343]\n",
        "data['Date'].value_counts()\n"
      ],
      "execution_count": null,
      "outputs": [
        {
          "output_type": "execute_result",
          "data": {
            "text/plain": [
              "3/19/2013     1\n",
              "8/3/2015      1\n",
              "11/12/2014    1\n",
              "5/9/2011      1\n",
              "3/11/2014     1\n",
              "7/2/2015      1\n",
              "11/27/2014    1\n",
              "1/20/2016     1\n",
              "8/25/2009     1\n",
              "1/9/2015      1\n",
              "3/20/2012     1\n",
              "10/21/2014    1\n",
              "6/2/2008      1\n",
              "12/22/2016    1\n",
              "9/5/2011      1\n",
              "7/24/2015     1\n",
              "1/21/2010     1\n",
              "12/3/2008     1\n",
              "9/21/2010     1\n",
              "4/2/2009      1\n",
              "11/30/2009    1\n",
              "11/21/2011    1\n",
              "7/19/2012     1\n",
              "12/10/2008    1\n",
              "6/26/2009     1\n",
              "7/14/2016     1\n",
              "8/14/2014     1\n",
              "1/10/2017     1\n",
              "4/7/2017      1\n",
              "2/19/2013     1\n",
              "             ..\n",
              "6/18/2015     1\n",
              "7/9/2008      1\n",
              "9/16/2010     1\n",
              "4/11/2012     1\n",
              "12/26/2008    1\n",
              "8/4/2011      1\n",
              "12/30/2014    1\n",
              "1/29/2014     1\n",
              "12/15/2011    1\n",
              "7/17/2009     1\n",
              "5/31/2017     1\n",
              "8/31/2010     1\n",
              "6/29/2015     1\n",
              "11/15/2012    1\n",
              "3/12/2012     1\n",
              "12/4/2008     1\n",
              "3/25/2015     1\n",
              "4/10/2015     1\n",
              "3/17/2010     1\n",
              "1/11/2017     1\n",
              "10/17/2014    1\n",
              "4/1/2015      1\n",
              "2/18/2013     1\n",
              "5/23/2013     1\n",
              "5/29/2012     1\n",
              "3/6/2013      1\n",
              "2/15/2010     1\n",
              "12/19/2016    1\n",
              "3/29/2011     1\n",
              "12/20/2012    1\n",
              "Name: Date, Length: 2343, dtype: int64"
            ]
          },
          "metadata": {
            "tags": []
          },
          "execution_count": 148
        }
      ]
    },
    {
      "cell_type": "code",
      "metadata": {
        "tags": [],
        "id": "2zq6hf2DBmPX",
        "outputId": "52f8598e-bbd9-4146-9649-069cf2668fd4"
      },
      "source": [
        "stepwise_fit = auto_arima(data['Close'], start_p = 1, start_q = 1, \n",
        "                          max_p = 3, max_q = 3, m = 12, \n",
        "                          start_P = 0, seasonal = True, \n",
        "                          d = None, D = 1, trace = True, \n",
        "                          error_action ='ignore',   # we don't want to know if an order does not work \n",
        "                          suppress_warnings = True,  # we don't want convergence warnings \n",
        "                          stepwise = True)           # set to stepwise \n",
        "  \n",
        "# To print the summary \n",
        "stepwise_fit.summary() "
      ],
      "execution_count": null,
      "outputs": [
        {
          "output_type": "stream",
          "text": [
            "Performing stepwise search to minimize aic\n",
            " ARIMA(1,0,1)(0,1,1)[12] intercept   : AIC=inf, Time=107.61 sec\n",
            " ARIMA(0,0,0)(0,1,0)[12] intercept   : AIC=20544.448, Time=1.29 sec\n",
            " ARIMA(1,0,0)(1,1,0)[12] intercept   : AIC=15799.270, Time=31.50 sec\n",
            " ARIMA(0,0,1)(0,1,1)[12] intercept   : AIC=18364.660, Time=43.70 sec\n",
            " ARIMA(0,0,0)(0,1,0)[12]             : AIC=20554.771, Time=0.91 sec\n",
            " ARIMA(1,0,0)(0,1,0)[12] intercept   : AIC=16402.374, Time=3.96 sec\n",
            " ARIMA(1,0,0)(2,1,0)[12] intercept   : AIC=15527.601, Time=87.68 sec\n",
            " ARIMA(1,0,0)(2,1,1)[12] intercept   : AIC=inf, Time=249.08 sec\n",
            " ARIMA(1,0,0)(1,1,1)[12] intercept   : AIC=inf, Time=110.36 sec\n",
            " ARIMA(0,0,0)(2,1,0)[12] intercept   : AIC=20520.370, Time=64.56 sec\n",
            " ARIMA(2,0,0)(2,1,0)[12] intercept   : AIC=15525.840, Time=135.82 sec\n",
            " ARIMA(2,0,0)(1,1,0)[12] intercept   : AIC=15800.030, Time=53.10 sec\n",
            " ARIMA(2,0,0)(2,1,1)[12] intercept   : AIC=inf, Time=300.36 sec\n",
            " ARIMA(2,0,0)(1,1,1)[12] intercept   : AIC=inf, Time=112.61 sec\n",
            " ARIMA(3,0,0)(2,1,0)[12] intercept   : AIC=15523.423, Time=178.20 sec\n",
            " ARIMA(3,0,0)(1,1,0)[12] intercept   : AIC=15796.463, Time=61.26 sec\n",
            " ARIMA(3,0,0)(2,1,1)[12] intercept   : AIC=inf, Time=389.52 sec\n",
            " ARIMA(3,0,0)(1,1,1)[12] intercept   : AIC=inf, Time=149.49 sec\n",
            " ARIMA(3,0,1)(2,1,0)[12] intercept   : AIC=15523.750, Time=420.37 sec\n",
            " ARIMA(2,0,1)(2,1,0)[12] intercept   : AIC=inf, Time=374.98 sec\n",
            " ARIMA(3,0,0)(2,1,0)[12]             : AIC=15522.575, Time=50.08 sec\n",
            " ARIMA(3,0,0)(1,1,0)[12]             : AIC=15795.537, Time=20.00 sec\n"
          ],
          "name": "stdout"
        },
        {
          "output_type": "error",
          "ename": "KeyboardInterrupt",
          "evalue": "",
          "traceback": [
            "\u001b[1;31m---------------------------------------------------------------------------\u001b[0m",
            "\u001b[1;31mKeyboardInterrupt\u001b[0m                         Traceback (most recent call last)",
            "\u001b[1;32m<ipython-input-106-5b7432dbb1f7>\u001b[0m in \u001b[0;36m<module>\u001b[1;34m\u001b[0m\n\u001b[0;32m      5\u001b[0m                           \u001b[0merror_action\u001b[0m \u001b[1;33m=\u001b[0m\u001b[1;34m'ignore'\u001b[0m\u001b[1;33m,\u001b[0m   \u001b[1;31m# we don't want to know if an order does not work\u001b[0m\u001b[1;33m\u001b[0m\u001b[1;33m\u001b[0m\u001b[0m\n\u001b[0;32m      6\u001b[0m                           \u001b[0msuppress_warnings\u001b[0m \u001b[1;33m=\u001b[0m \u001b[1;32mTrue\u001b[0m\u001b[1;33m,\u001b[0m  \u001b[1;31m# we don't want convergence warnings\u001b[0m\u001b[1;33m\u001b[0m\u001b[1;33m\u001b[0m\u001b[0m\n\u001b[1;32m----> 7\u001b[1;33m                           stepwise = True)           # set to stepwise \n\u001b[0m\u001b[0;32m      8\u001b[0m \u001b[1;33m\u001b[0m\u001b[0m\n\u001b[0;32m      9\u001b[0m \u001b[1;31m# To print the summary\u001b[0m\u001b[1;33m\u001b[0m\u001b[1;33m\u001b[0m\u001b[1;33m\u001b[0m\u001b[0m\n",
            "\u001b[1;32m~\\AppData\\Local\\Programs\\Python\\Python37\\lib\\site-packages\\pmdarima\\arima\\auto.py\u001b[0m in \u001b[0;36mauto_arima\u001b[1;34m(y, exogenous, start_p, d, start_q, max_p, max_d, max_q, start_P, D, start_Q, max_P, max_D, max_Q, max_order, m, seasonal, stationary, information_criterion, alpha, test, seasonal_test, stepwise, n_jobs, start_params, trend, method, maxiter, offset_test_args, seasonal_test_args, suppress_warnings, error_action, trace, random, random_state, n_fits, return_valid_fits, out_of_sample_size, scoring, scoring_args, with_intercept, sarimax_kwargs, **fit_args)\u001b[0m\n\u001b[0;32m    668\u001b[0m \u001b[1;33m\u001b[0m\u001b[0m\n\u001b[0;32m    669\u001b[0m         \u001b[1;31m# do the step-through...\u001b[0m\u001b[1;33m\u001b[0m\u001b[1;33m\u001b[0m\u001b[1;33m\u001b[0m\u001b[0m\n\u001b[1;32m--> 670\u001b[1;33m         \u001b[0msorted_res\u001b[0m \u001b[1;33m=\u001b[0m \u001b[0mstepwise_wrapper\u001b[0m\u001b[1;33m.\u001b[0m\u001b[0msolve_stepwise\u001b[0m\u001b[1;33m(\u001b[0m\u001b[1;33m)\u001b[0m\u001b[1;33m\u001b[0m\u001b[1;33m\u001b[0m\u001b[0m\n\u001b[0m\u001b[0;32m    671\u001b[0m \u001b[1;33m\u001b[0m\u001b[0m\n\u001b[0;32m    672\u001b[0m     \u001b[1;32mreturn\u001b[0m \u001b[0m_return_wrapper\u001b[0m\u001b[1;33m(\u001b[0m\u001b[0msorted_res\u001b[0m\u001b[1;33m,\u001b[0m \u001b[0mreturn_valid_fits\u001b[0m\u001b[1;33m,\u001b[0m \u001b[0mstart\u001b[0m\u001b[1;33m,\u001b[0m \u001b[0mtrace\u001b[0m\u001b[1;33m)\u001b[0m\u001b[1;33m\u001b[0m\u001b[1;33m\u001b[0m\u001b[0m\n",
            "\u001b[1;32m~\\AppData\\Local\\Programs\\Python\\Python37\\lib\\site-packages\\pmdarima\\arima\\_auto_solvers.py\u001b[0m in \u001b[0;36msolve_stepwise\u001b[1;34m(self)\u001b[0m\n\u001b[0;32m    263\u001b[0m             \u001b[1;32mif\u001b[0m \u001b[0mQ\u001b[0m \u001b[1;33m<\u001b[0m \u001b[0mmax_Q\u001b[0m \u001b[1;32mand\u001b[0m\u001b[0;31m \u001b[0m\u001b[0;31m\\\u001b[0m\u001b[1;33m\u001b[0m\u001b[1;33m\u001b[0m\u001b[0m\n\u001b[0;32m    264\u001b[0m                     \u001b[0mself\u001b[0m\u001b[1;33m.\u001b[0m\u001b[0mk\u001b[0m \u001b[1;33m<\u001b[0m \u001b[0mself\u001b[0m\u001b[1;33m.\u001b[0m\u001b[0mmax_k\u001b[0m \u001b[1;32mand\u001b[0m\u001b[0;31m \u001b[0m\u001b[0;31m\\\u001b[0m\u001b[1;33m\u001b[0m\u001b[1;33m\u001b[0m\u001b[0m\n\u001b[1;32m--> 265\u001b[1;33m                     \u001b[0mself\u001b[0m\u001b[1;33m.\u001b[0m\u001b[0m_do_fit\u001b[0m\u001b[1;33m(\u001b[0m\u001b[1;33m(\u001b[0m\u001b[0mp\u001b[0m\u001b[1;33m,\u001b[0m \u001b[0md\u001b[0m\u001b[1;33m,\u001b[0m \u001b[0mq\u001b[0m\u001b[1;33m)\u001b[0m\u001b[1;33m,\u001b[0m \u001b[1;33m(\u001b[0m\u001b[0mP\u001b[0m\u001b[1;33m,\u001b[0m \u001b[0mD\u001b[0m\u001b[1;33m,\u001b[0m \u001b[0mQ\u001b[0m \u001b[1;33m+\u001b[0m \u001b[1;36m1\u001b[0m\u001b[1;33m,\u001b[0m \u001b[0mm\u001b[0m\u001b[1;33m)\u001b[0m\u001b[1;33m)\u001b[0m\u001b[1;33m:\u001b[0m\u001b[1;33m\u001b[0m\u001b[1;33m\u001b[0m\u001b[0m\n\u001b[0m\u001b[0;32m    266\u001b[0m                 \u001b[0mQ\u001b[0m \u001b[1;33m+=\u001b[0m \u001b[1;36m1\u001b[0m\u001b[1;33m\u001b[0m\u001b[1;33m\u001b[0m\u001b[0m\n\u001b[0;32m    267\u001b[0m                 \u001b[1;32mcontinue\u001b[0m\u001b[1;33m\u001b[0m\u001b[1;33m\u001b[0m\u001b[0m\n",
            "\u001b[1;32m~\\AppData\\Local\\Programs\\Python\\Python37\\lib\\site-packages\\pmdarima\\arima\\_auto_solvers.py\u001b[0m in \u001b[0;36m_do_fit\u001b[1;34m(self, order, seasonal_order, constant)\u001b[0m\n\u001b[0;32m    148\u001b[0m                 \u001b[0morder\u001b[0m\u001b[1;33m=\u001b[0m\u001b[0morder\u001b[0m\u001b[1;33m,\u001b[0m\u001b[1;33m\u001b[0m\u001b[1;33m\u001b[0m\u001b[0m\n\u001b[0;32m    149\u001b[0m                 \u001b[0mseasonal_order\u001b[0m\u001b[1;33m=\u001b[0m\u001b[0mseasonal_order\u001b[0m\u001b[1;33m,\u001b[0m\u001b[1;33m\u001b[0m\u001b[1;33m\u001b[0m\u001b[0m\n\u001b[1;32m--> 150\u001b[1;33m                 with_intercept=constant)\n\u001b[0m\u001b[0;32m    151\u001b[0m \u001b[1;33m\u001b[0m\u001b[0m\n\u001b[0;32m    152\u001b[0m             \u001b[1;31m# use the orders as a key to be hashed for\u001b[0m\u001b[1;33m\u001b[0m\u001b[1;33m\u001b[0m\u001b[1;33m\u001b[0m\u001b[0m\n",
            "\u001b[1;32m~\\AppData\\Local\\Programs\\Python\\Python37\\lib\\site-packages\\pmdarima\\arima\\_auto_solvers.py\u001b[0m in \u001b[0;36m_fit_candidate_model\u001b[1;34m(x, xreg, order, seasonal_order, start_params, trend, method, maxiter, fit_params, suppress_warnings, trace, error_action, out_of_sample_size, scoring, scoring_args, with_intercept, information_criterion, do_root_test, **kwargs)\u001b[0m\n\u001b[0;32m    419\u001b[0m \u001b[1;33m\u001b[0m\u001b[0m\n\u001b[0;32m    420\u001b[0m     \u001b[1;32mtry\u001b[0m\u001b[1;33m:\u001b[0m\u001b[1;33m\u001b[0m\u001b[1;33m\u001b[0m\u001b[0m\n\u001b[1;32m--> 421\u001b[1;33m         \u001b[0mfit\u001b[0m\u001b[1;33m.\u001b[0m\u001b[0mfit\u001b[0m\u001b[1;33m(\u001b[0m\u001b[0mx\u001b[0m\u001b[1;33m,\u001b[0m \u001b[0mexogenous\u001b[0m\u001b[1;33m=\u001b[0m\u001b[0mxreg\u001b[0m\u001b[1;33m,\u001b[0m \u001b[1;33m**\u001b[0m\u001b[0mfit_params\u001b[0m\u001b[1;33m)\u001b[0m\u001b[1;33m\u001b[0m\u001b[1;33m\u001b[0m\u001b[0m\n\u001b[0m\u001b[0;32m    422\u001b[0m \u001b[1;33m\u001b[0m\u001b[0m\n\u001b[0;32m    423\u001b[0m     \u001b[1;31m# for non-stationarity errors or singular matrices, return None\u001b[0m\u001b[1;33m\u001b[0m\u001b[1;33m\u001b[0m\u001b[1;33m\u001b[0m\u001b[0m\n",
            "\u001b[1;32m~\\AppData\\Local\\Programs\\Python\\Python37\\lib\\site-packages\\pmdarima\\arima\\arima.py\u001b[0m in \u001b[0;36mfit\u001b[1;34m(self, y, exogenous, **fit_args)\u001b[0m\n\u001b[0;32m    470\u001b[0m \u001b[1;33m\u001b[0m\u001b[0m\n\u001b[0;32m    471\u001b[0m         \u001b[1;31m# Internal call\u001b[0m\u001b[1;33m\u001b[0m\u001b[1;33m\u001b[0m\u001b[1;33m\u001b[0m\u001b[0m\n\u001b[1;32m--> 472\u001b[1;33m         \u001b[0mself\u001b[0m\u001b[1;33m.\u001b[0m\u001b[0m_fit\u001b[0m\u001b[1;33m(\u001b[0m\u001b[0my\u001b[0m\u001b[1;33m,\u001b[0m \u001b[0mexogenous\u001b[0m\u001b[1;33m,\u001b[0m \u001b[1;33m**\u001b[0m\u001b[0mfit_args\u001b[0m\u001b[1;33m)\u001b[0m\u001b[1;33m\u001b[0m\u001b[1;33m\u001b[0m\u001b[0m\n\u001b[0m\u001b[0;32m    473\u001b[0m \u001b[1;33m\u001b[0m\u001b[0m\n\u001b[0;32m    474\u001b[0m         \u001b[1;31m# now make a forecast if we're validating to compute the\u001b[0m\u001b[1;33m\u001b[0m\u001b[1;33m\u001b[0m\u001b[1;33m\u001b[0m\u001b[0m\n",
            "\u001b[1;32m~\\AppData\\Local\\Programs\\Python\\Python37\\lib\\site-packages\\pmdarima\\arima\\arima.py\u001b[0m in \u001b[0;36m_fit\u001b[1;34m(self, y, exogenous, **fit_args)\u001b[0m\n\u001b[0;32m    393\u001b[0m             \u001b[1;32mwith\u001b[0m \u001b[0mwarnings\u001b[0m\u001b[1;33m.\u001b[0m\u001b[0mcatch_warnings\u001b[0m\u001b[1;33m(\u001b[0m\u001b[0mrecord\u001b[0m\u001b[1;33m=\u001b[0m\u001b[1;32mFalse\u001b[0m\u001b[1;33m)\u001b[0m\u001b[1;33m:\u001b[0m\u001b[1;33m\u001b[0m\u001b[1;33m\u001b[0m\u001b[0m\n\u001b[0;32m    394\u001b[0m                 \u001b[0mwarnings\u001b[0m\u001b[1;33m.\u001b[0m\u001b[0msimplefilter\u001b[0m\u001b[1;33m(\u001b[0m\u001b[1;34m'ignore'\u001b[0m\u001b[1;33m)\u001b[0m\u001b[1;33m\u001b[0m\u001b[1;33m\u001b[0m\u001b[0m\n\u001b[1;32m--> 395\u001b[1;33m                 \u001b[0mfit\u001b[0m\u001b[1;33m,\u001b[0m \u001b[0mself\u001b[0m\u001b[1;33m.\u001b[0m\u001b[0marima_res_\u001b[0m \u001b[1;33m=\u001b[0m \u001b[0m_fit_wrapper\u001b[0m\u001b[1;33m(\u001b[0m\u001b[1;33m)\u001b[0m\u001b[1;33m\u001b[0m\u001b[1;33m\u001b[0m\u001b[0m\n\u001b[0m\u001b[0;32m    396\u001b[0m         \u001b[1;32melse\u001b[0m\u001b[1;33m:\u001b[0m\u001b[1;33m\u001b[0m\u001b[1;33m\u001b[0m\u001b[0m\n\u001b[0;32m    397\u001b[0m             \u001b[0mfit\u001b[0m\u001b[1;33m,\u001b[0m \u001b[0mself\u001b[0m\u001b[1;33m.\u001b[0m\u001b[0marima_res_\u001b[0m \u001b[1;33m=\u001b[0m \u001b[0m_fit_wrapper\u001b[0m\u001b[1;33m(\u001b[0m\u001b[1;33m)\u001b[0m\u001b[1;33m\u001b[0m\u001b[1;33m\u001b[0m\u001b[0m\n",
            "\u001b[1;32m~\\AppData\\Local\\Programs\\Python\\Python37\\lib\\site-packages\\pmdarima\\arima\\arima.py\u001b[0m in \u001b[0;36m_fit_wrapper\u001b[1;34m()\u001b[0m\n\u001b[0;32m    387\u001b[0m                                     \u001b[0mmaxiter\u001b[0m\u001b[1;33m=\u001b[0m\u001b[0m_maxiter\u001b[0m\u001b[1;33m,\u001b[0m\u001b[1;33m\u001b[0m\u001b[1;33m\u001b[0m\u001b[0m\n\u001b[0;32m    388\u001b[0m                                     \u001b[0mdisp\u001b[0m\u001b[1;33m=\u001b[0m\u001b[0mdisp\u001b[0m\u001b[1;33m,\u001b[0m\u001b[1;33m\u001b[0m\u001b[1;33m\u001b[0m\u001b[0m\n\u001b[1;32m--> 389\u001b[1;33m                                     **fit_args)\n\u001b[0m\u001b[0;32m    390\u001b[0m \u001b[1;33m\u001b[0m\u001b[0m\n\u001b[0;32m    391\u001b[0m         \u001b[1;31m# sometimes too many warnings...\u001b[0m\u001b[1;33m\u001b[0m\u001b[1;33m\u001b[0m\u001b[1;33m\u001b[0m\u001b[0m\n",
            "\u001b[1;32m~\\AppData\\Local\\Programs\\Python\\Python37\\lib\\site-packages\\statsmodels\\tsa\\statespace\\mlemodel.py\u001b[0m in \u001b[0;36mfit\u001b[1;34m(self, start_params, transformed, includes_fixed, cov_type, cov_kwds, method, maxiter, full_output, disp, callback, return_params, optim_score, optim_complex_step, optim_hessian, flags, low_memory, **kwargs)\u001b[0m\n\u001b[0;32m    657\u001b[0m                                                \u001b[0mfull_output\u001b[0m\u001b[1;33m=\u001b[0m\u001b[0mfull_output\u001b[0m\u001b[1;33m,\u001b[0m\u001b[1;33m\u001b[0m\u001b[1;33m\u001b[0m\u001b[0m\n\u001b[0;32m    658\u001b[0m                                                \u001b[0mdisp\u001b[0m\u001b[1;33m=\u001b[0m\u001b[0mdisp\u001b[0m\u001b[1;33m,\u001b[0m \u001b[0mcallback\u001b[0m\u001b[1;33m=\u001b[0m\u001b[0mcallback\u001b[0m\u001b[1;33m,\u001b[0m\u001b[1;33m\u001b[0m\u001b[1;33m\u001b[0m\u001b[0m\n\u001b[1;32m--> 659\u001b[1;33m                                                skip_hessian=True, **kwargs)\n\u001b[0m\u001b[0;32m    660\u001b[0m \u001b[1;33m\u001b[0m\u001b[0m\n\u001b[0;32m    661\u001b[0m         \u001b[1;31m# Just return the fitted parameters if requested\u001b[0m\u001b[1;33m\u001b[0m\u001b[1;33m\u001b[0m\u001b[1;33m\u001b[0m\u001b[0m\n",
            "\u001b[1;32m~\\AppData\\Local\\Programs\\Python\\Python37\\lib\\site-packages\\statsmodels\\base\\model.py\u001b[0m in \u001b[0;36mfit\u001b[1;34m(self, start_params, method, maxiter, full_output, disp, fargs, callback, retall, skip_hessian, **kwargs)\u001b[0m\n\u001b[0;32m    524\u001b[0m                                                        \u001b[0mcallback\u001b[0m\u001b[1;33m=\u001b[0m\u001b[0mcallback\u001b[0m\u001b[1;33m,\u001b[0m\u001b[1;33m\u001b[0m\u001b[1;33m\u001b[0m\u001b[0m\n\u001b[0;32m    525\u001b[0m                                                        \u001b[0mretall\u001b[0m\u001b[1;33m=\u001b[0m\u001b[0mretall\u001b[0m\u001b[1;33m,\u001b[0m\u001b[1;33m\u001b[0m\u001b[1;33m\u001b[0m\u001b[0m\n\u001b[1;32m--> 526\u001b[1;33m                                                        full_output=full_output)\n\u001b[0m\u001b[0;32m    527\u001b[0m \u001b[1;33m\u001b[0m\u001b[0m\n\u001b[0;32m    528\u001b[0m         \u001b[1;31m# NOTE: this is for fit_regularized and should be generalized\u001b[0m\u001b[1;33m\u001b[0m\u001b[1;33m\u001b[0m\u001b[1;33m\u001b[0m\u001b[0m\n",
            "\u001b[1;32m~\\AppData\\Local\\Programs\\Python\\Python37\\lib\\site-packages\\statsmodels\\base\\optimizer.py\u001b[0m in \u001b[0;36m_fit\u001b[1;34m(self, objective, gradient, start_params, fargs, kwargs, hessian, method, maxiter, full_output, disp, callback, retall)\u001b[0m\n\u001b[0;32m    216\u001b[0m                             \u001b[0mdisp\u001b[0m\u001b[1;33m=\u001b[0m\u001b[0mdisp\u001b[0m\u001b[1;33m,\u001b[0m \u001b[0mmaxiter\u001b[0m\u001b[1;33m=\u001b[0m\u001b[0mmaxiter\u001b[0m\u001b[1;33m,\u001b[0m \u001b[0mcallback\u001b[0m\u001b[1;33m=\u001b[0m\u001b[0mcallback\u001b[0m\u001b[1;33m,\u001b[0m\u001b[1;33m\u001b[0m\u001b[1;33m\u001b[0m\u001b[0m\n\u001b[0;32m    217\u001b[0m                             \u001b[0mretall\u001b[0m\u001b[1;33m=\u001b[0m\u001b[0mretall\u001b[0m\u001b[1;33m,\u001b[0m \u001b[0mfull_output\u001b[0m\u001b[1;33m=\u001b[0m\u001b[0mfull_output\u001b[0m\u001b[1;33m,\u001b[0m\u001b[1;33m\u001b[0m\u001b[1;33m\u001b[0m\u001b[0m\n\u001b[1;32m--> 218\u001b[1;33m                             hess=hessian)\n\u001b[0m\u001b[0;32m    219\u001b[0m \u001b[1;33m\u001b[0m\u001b[0m\n\u001b[0;32m    220\u001b[0m         optim_settings = {'optimizer': method, 'start_params': start_params,\n",
            "\u001b[1;32m~\\AppData\\Local\\Programs\\Python\\Python37\\lib\\site-packages\\statsmodels\\base\\optimizer.py\u001b[0m in \u001b[0;36m_fit_lbfgs\u001b[1;34m(f, score, start_params, fargs, kwargs, disp, maxiter, callback, retall, full_output, hess)\u001b[0m\n\u001b[0;32m    438\u001b[0m                                      \u001b[0mcallback\u001b[0m\u001b[1;33m=\u001b[0m\u001b[0mcallback\u001b[0m\u001b[1;33m,\u001b[0m \u001b[0margs\u001b[0m\u001b[1;33m=\u001b[0m\u001b[0mfargs\u001b[0m\u001b[1;33m,\u001b[0m\u001b[1;33m\u001b[0m\u001b[1;33m\u001b[0m\u001b[0m\n\u001b[0;32m    439\u001b[0m                                      \u001b[0mbounds\u001b[0m\u001b[1;33m=\u001b[0m\u001b[0mbounds\u001b[0m\u001b[1;33m,\u001b[0m \u001b[0mdisp\u001b[0m\u001b[1;33m=\u001b[0m\u001b[0mdisp\u001b[0m\u001b[1;33m,\u001b[0m\u001b[1;33m\u001b[0m\u001b[1;33m\u001b[0m\u001b[0m\n\u001b[1;32m--> 440\u001b[1;33m                                      **extra_kwargs)\n\u001b[0m\u001b[0;32m    441\u001b[0m \u001b[1;33m\u001b[0m\u001b[0m\n\u001b[0;32m    442\u001b[0m     \u001b[1;32mif\u001b[0m \u001b[0mfull_output\u001b[0m\u001b[1;33m:\u001b[0m\u001b[1;33m\u001b[0m\u001b[1;33m\u001b[0m\u001b[0m\n",
            "\u001b[1;32m~\\AppData\\Local\\Programs\\Python\\Python37\\lib\\site-packages\\scipy\\optimize\\lbfgsb.py\u001b[0m in \u001b[0;36mfmin_l_bfgs_b\u001b[1;34m(func, x0, fprime, args, approx_grad, bounds, m, factr, pgtol, epsilon, iprint, maxfun, maxiter, disp, callback, maxls)\u001b[0m\n\u001b[0;32m    196\u001b[0m \u001b[1;33m\u001b[0m\u001b[0m\n\u001b[0;32m    197\u001b[0m     res = _minimize_lbfgsb(fun, x0, args=args, jac=jac, bounds=bounds,\n\u001b[1;32m--> 198\u001b[1;33m                            **opts)\n\u001b[0m\u001b[0;32m    199\u001b[0m     d = {'grad': res['jac'],\n\u001b[0;32m    200\u001b[0m          \u001b[1;34m'task'\u001b[0m\u001b[1;33m:\u001b[0m \u001b[0mres\u001b[0m\u001b[1;33m[\u001b[0m\u001b[1;34m'message'\u001b[0m\u001b[1;33m]\u001b[0m\u001b[1;33m,\u001b[0m\u001b[1;33m\u001b[0m\u001b[1;33m\u001b[0m\u001b[0m\n",
            "\u001b[1;32m~\\AppData\\Local\\Programs\\Python\\Python37\\lib\\site-packages\\scipy\\optimize\\lbfgsb.py\u001b[0m in \u001b[0;36m_minimize_lbfgsb\u001b[1;34m(fun, x0, args, jac, bounds, disp, maxcor, ftol, gtol, eps, maxfun, maxiter, iprint, callback, maxls, finite_diff_rel_step, **unknown_options)\u001b[0m\n\u001b[0;32m    358\u001b[0m             \u001b[1;31m# until the completion of the current minimization iteration.\u001b[0m\u001b[1;33m\u001b[0m\u001b[1;33m\u001b[0m\u001b[1;33m\u001b[0m\u001b[0m\n\u001b[0;32m    359\u001b[0m             \u001b[1;31m# Overwrite f and g:\u001b[0m\u001b[1;33m\u001b[0m\u001b[1;33m\u001b[0m\u001b[1;33m\u001b[0m\u001b[0m\n\u001b[1;32m--> 360\u001b[1;33m             \u001b[0mf\u001b[0m\u001b[1;33m,\u001b[0m \u001b[0mg\u001b[0m \u001b[1;33m=\u001b[0m \u001b[0mfunc_and_grad\u001b[0m\u001b[1;33m(\u001b[0m\u001b[0mx\u001b[0m\u001b[1;33m)\u001b[0m\u001b[1;33m\u001b[0m\u001b[1;33m\u001b[0m\u001b[0m\n\u001b[0m\u001b[0;32m    361\u001b[0m         \u001b[1;32melif\u001b[0m \u001b[0mtask_str\u001b[0m\u001b[1;33m.\u001b[0m\u001b[0mstartswith\u001b[0m\u001b[1;33m(\u001b[0m\u001b[1;34mb'NEW_X'\u001b[0m\u001b[1;33m)\u001b[0m\u001b[1;33m:\u001b[0m\u001b[1;33m\u001b[0m\u001b[1;33m\u001b[0m\u001b[0m\n\u001b[0;32m    362\u001b[0m             \u001b[1;31m# new iteration\u001b[0m\u001b[1;33m\u001b[0m\u001b[1;33m\u001b[0m\u001b[1;33m\u001b[0m\u001b[0m\n",
            "\u001b[1;32m~\\AppData\\Local\\Programs\\Python\\Python37\\lib\\site-packages\\scipy\\optimize\\_differentiable_functions.py\u001b[0m in \u001b[0;36mfun_and_grad\u001b[1;34m(self, x)\u001b[0m\n\u001b[0;32m    199\u001b[0m             \u001b[0mself\u001b[0m\u001b[1;33m.\u001b[0m\u001b[0m_update_x_impl\u001b[0m\u001b[1;33m(\u001b[0m\u001b[0mx\u001b[0m\u001b[1;33m)\u001b[0m\u001b[1;33m\u001b[0m\u001b[1;33m\u001b[0m\u001b[0m\n\u001b[0;32m    200\u001b[0m         \u001b[0mself\u001b[0m\u001b[1;33m.\u001b[0m\u001b[0m_update_fun\u001b[0m\u001b[1;33m(\u001b[0m\u001b[1;33m)\u001b[0m\u001b[1;33m\u001b[0m\u001b[1;33m\u001b[0m\u001b[0m\n\u001b[1;32m--> 201\u001b[1;33m         \u001b[0mself\u001b[0m\u001b[1;33m.\u001b[0m\u001b[0m_update_grad\u001b[0m\u001b[1;33m(\u001b[0m\u001b[1;33m)\u001b[0m\u001b[1;33m\u001b[0m\u001b[1;33m\u001b[0m\u001b[0m\n\u001b[0m\u001b[0;32m    202\u001b[0m         \u001b[1;32mreturn\u001b[0m \u001b[0mself\u001b[0m\u001b[1;33m.\u001b[0m\u001b[0mf\u001b[0m\u001b[1;33m,\u001b[0m \u001b[0mself\u001b[0m\u001b[1;33m.\u001b[0m\u001b[0mg\u001b[0m\u001b[1;33m\u001b[0m\u001b[1;33m\u001b[0m\u001b[0m\n\u001b[0;32m    203\u001b[0m \u001b[1;33m\u001b[0m\u001b[0m\n",
            "\u001b[1;32m~\\AppData\\Local\\Programs\\Python\\Python37\\lib\\site-packages\\scipy\\optimize\\_differentiable_functions.py\u001b[0m in \u001b[0;36m_update_grad\u001b[1;34m(self)\u001b[0m\n\u001b[0;32m    169\u001b[0m     \u001b[1;32mdef\u001b[0m \u001b[0m_update_grad\u001b[0m\u001b[1;33m(\u001b[0m\u001b[0mself\u001b[0m\u001b[1;33m)\u001b[0m\u001b[1;33m:\u001b[0m\u001b[1;33m\u001b[0m\u001b[1;33m\u001b[0m\u001b[0m\n\u001b[0;32m    170\u001b[0m         \u001b[1;32mif\u001b[0m \u001b[1;32mnot\u001b[0m \u001b[0mself\u001b[0m\u001b[1;33m.\u001b[0m\u001b[0mg_updated\u001b[0m\u001b[1;33m:\u001b[0m\u001b[1;33m\u001b[0m\u001b[1;33m\u001b[0m\u001b[0m\n\u001b[1;32m--> 171\u001b[1;33m             \u001b[0mself\u001b[0m\u001b[1;33m.\u001b[0m\u001b[0m_update_grad_impl\u001b[0m\u001b[1;33m(\u001b[0m\u001b[1;33m)\u001b[0m\u001b[1;33m\u001b[0m\u001b[1;33m\u001b[0m\u001b[0m\n\u001b[0m\u001b[0;32m    172\u001b[0m             \u001b[0mself\u001b[0m\u001b[1;33m.\u001b[0m\u001b[0mg_updated\u001b[0m \u001b[1;33m=\u001b[0m \u001b[1;32mTrue\u001b[0m\u001b[1;33m\u001b[0m\u001b[1;33m\u001b[0m\u001b[0m\n\u001b[0;32m    173\u001b[0m \u001b[1;33m\u001b[0m\u001b[0m\n",
            "\u001b[1;32m~\\AppData\\Local\\Programs\\Python\\Python37\\lib\\site-packages\\scipy\\optimize\\_differentiable_functions.py\u001b[0m in \u001b[0;36mupdate_grad\u001b[1;34m()\u001b[0m\n\u001b[0;32m     90\u001b[0m                 \u001b[0mself\u001b[0m\u001b[1;33m.\u001b[0m\u001b[0mngev\u001b[0m \u001b[1;33m+=\u001b[0m \u001b[1;36m1\u001b[0m\u001b[1;33m\u001b[0m\u001b[1;33m\u001b[0m\u001b[0m\n\u001b[0;32m     91\u001b[0m                 self.g = approx_derivative(fun_wrapped, self.x, f0=self.f,\n\u001b[1;32m---> 92\u001b[1;33m                                            **finite_diff_options)\n\u001b[0m\u001b[0;32m     93\u001b[0m \u001b[1;33m\u001b[0m\u001b[0m\n\u001b[0;32m     94\u001b[0m         \u001b[0mself\u001b[0m\u001b[1;33m.\u001b[0m\u001b[0m_update_grad_impl\u001b[0m \u001b[1;33m=\u001b[0m \u001b[0mupdate_grad\u001b[0m\u001b[1;33m\u001b[0m\u001b[1;33m\u001b[0m\u001b[0m\n",
            "\u001b[1;32m~\\AppData\\Local\\Programs\\Python\\Python37\\lib\\site-packages\\scipy\\optimize\\_numdiff.py\u001b[0m in \u001b[0;36mapprox_derivative\u001b[1;34m(fun, x0, method, rel_step, abs_step, f0, bounds, sparsity, as_linear_operator, args, kwargs)\u001b[0m\n\u001b[0;32m    425\u001b[0m         \u001b[1;32mif\u001b[0m \u001b[0msparsity\u001b[0m \u001b[1;32mis\u001b[0m \u001b[1;32mNone\u001b[0m\u001b[1;33m:\u001b[0m\u001b[1;33m\u001b[0m\u001b[1;33m\u001b[0m\u001b[0m\n\u001b[0;32m    426\u001b[0m             return _dense_difference(fun_wrapped, x0, f0, h,\n\u001b[1;32m--> 427\u001b[1;33m                                      use_one_sided, method)\n\u001b[0m\u001b[0;32m    428\u001b[0m         \u001b[1;32melse\u001b[0m\u001b[1;33m:\u001b[0m\u001b[1;33m\u001b[0m\u001b[1;33m\u001b[0m\u001b[0m\n\u001b[0;32m    429\u001b[0m             \u001b[1;32mif\u001b[0m \u001b[1;32mnot\u001b[0m \u001b[0missparse\u001b[0m\u001b[1;33m(\u001b[0m\u001b[0msparsity\u001b[0m\u001b[1;33m)\u001b[0m \u001b[1;32mand\u001b[0m \u001b[0mlen\u001b[0m\u001b[1;33m(\u001b[0m\u001b[0msparsity\u001b[0m\u001b[1;33m)\u001b[0m \u001b[1;33m==\u001b[0m \u001b[1;36m2\u001b[0m\u001b[1;33m:\u001b[0m\u001b[1;33m\u001b[0m\u001b[1;33m\u001b[0m\u001b[0m\n",
            "\u001b[1;32m~\\AppData\\Local\\Programs\\Python\\Python37\\lib\\site-packages\\scipy\\optimize\\_numdiff.py\u001b[0m in \u001b[0;36m_dense_difference\u001b[1;34m(fun, x0, f0, h, use_one_sided, method)\u001b[0m\n\u001b[0;32m    495\u001b[0m             \u001b[0mx\u001b[0m \u001b[1;33m=\u001b[0m \u001b[0mx0\u001b[0m \u001b[1;33m+\u001b[0m \u001b[0mh_vecs\u001b[0m\u001b[1;33m[\u001b[0m\u001b[0mi\u001b[0m\u001b[1;33m]\u001b[0m\u001b[1;33m\u001b[0m\u001b[1;33m\u001b[0m\u001b[0m\n\u001b[0;32m    496\u001b[0m             \u001b[0mdx\u001b[0m \u001b[1;33m=\u001b[0m \u001b[0mx\u001b[0m\u001b[1;33m[\u001b[0m\u001b[0mi\u001b[0m\u001b[1;33m]\u001b[0m \u001b[1;33m-\u001b[0m \u001b[0mx0\u001b[0m\u001b[1;33m[\u001b[0m\u001b[0mi\u001b[0m\u001b[1;33m]\u001b[0m  \u001b[1;31m# Recompute dx as exactly representable number.\u001b[0m\u001b[1;33m\u001b[0m\u001b[1;33m\u001b[0m\u001b[0m\n\u001b[1;32m--> 497\u001b[1;33m             \u001b[0mdf\u001b[0m \u001b[1;33m=\u001b[0m \u001b[0mfun\u001b[0m\u001b[1;33m(\u001b[0m\u001b[0mx\u001b[0m\u001b[1;33m)\u001b[0m \u001b[1;33m-\u001b[0m \u001b[0mf0\u001b[0m\u001b[1;33m\u001b[0m\u001b[1;33m\u001b[0m\u001b[0m\n\u001b[0m\u001b[0;32m    498\u001b[0m         \u001b[1;32melif\u001b[0m \u001b[0mmethod\u001b[0m \u001b[1;33m==\u001b[0m \u001b[1;34m'3-point'\u001b[0m \u001b[1;32mand\u001b[0m \u001b[0muse_one_sided\u001b[0m\u001b[1;33m[\u001b[0m\u001b[0mi\u001b[0m\u001b[1;33m]\u001b[0m\u001b[1;33m:\u001b[0m\u001b[1;33m\u001b[0m\u001b[1;33m\u001b[0m\u001b[0m\n\u001b[0;32m    499\u001b[0m             \u001b[0mx1\u001b[0m \u001b[1;33m=\u001b[0m \u001b[0mx0\u001b[0m \u001b[1;33m+\u001b[0m \u001b[0mh_vecs\u001b[0m\u001b[1;33m[\u001b[0m\u001b[0mi\u001b[0m\u001b[1;33m]\u001b[0m\u001b[1;33m\u001b[0m\u001b[1;33m\u001b[0m\u001b[0m\n",
            "\u001b[1;32m~\\AppData\\Local\\Programs\\Python\\Python37\\lib\\site-packages\\scipy\\optimize\\_numdiff.py\u001b[0m in \u001b[0;36mfun_wrapped\u001b[1;34m(x)\u001b[0m\n\u001b[0;32m    375\u001b[0m \u001b[1;33m\u001b[0m\u001b[0m\n\u001b[0;32m    376\u001b[0m     \u001b[1;32mdef\u001b[0m \u001b[0mfun_wrapped\u001b[0m\u001b[1;33m(\u001b[0m\u001b[0mx\u001b[0m\u001b[1;33m)\u001b[0m\u001b[1;33m:\u001b[0m\u001b[1;33m\u001b[0m\u001b[1;33m\u001b[0m\u001b[0m\n\u001b[1;32m--> 377\u001b[1;33m         \u001b[0mf\u001b[0m \u001b[1;33m=\u001b[0m \u001b[0mnp\u001b[0m\u001b[1;33m.\u001b[0m\u001b[0matleast_1d\u001b[0m\u001b[1;33m(\u001b[0m\u001b[0mfun\u001b[0m\u001b[1;33m(\u001b[0m\u001b[0mx\u001b[0m\u001b[1;33m,\u001b[0m \u001b[1;33m*\u001b[0m\u001b[0margs\u001b[0m\u001b[1;33m,\u001b[0m \u001b[1;33m**\u001b[0m\u001b[0mkwargs\u001b[0m\u001b[1;33m)\u001b[0m\u001b[1;33m)\u001b[0m\u001b[1;33m\u001b[0m\u001b[1;33m\u001b[0m\u001b[0m\n\u001b[0m\u001b[0;32m    378\u001b[0m         \u001b[1;32mif\u001b[0m \u001b[0mf\u001b[0m\u001b[1;33m.\u001b[0m\u001b[0mndim\u001b[0m \u001b[1;33m>\u001b[0m \u001b[1;36m1\u001b[0m\u001b[1;33m:\u001b[0m\u001b[1;33m\u001b[0m\u001b[1;33m\u001b[0m\u001b[0m\n\u001b[0;32m    379\u001b[0m             raise RuntimeError(\"`fun` return value has \"\n",
            "\u001b[1;32m~\\AppData\\Local\\Programs\\Python\\Python37\\lib\\site-packages\\scipy\\optimize\\_differentiable_functions.py\u001b[0m in \u001b[0;36mfun_wrapped\u001b[1;34m(x)\u001b[0m\n\u001b[0;32m     68\u001b[0m         \u001b[1;32mdef\u001b[0m \u001b[0mfun_wrapped\u001b[0m\u001b[1;33m(\u001b[0m\u001b[0mx\u001b[0m\u001b[1;33m)\u001b[0m\u001b[1;33m:\u001b[0m\u001b[1;33m\u001b[0m\u001b[1;33m\u001b[0m\u001b[0m\n\u001b[0;32m     69\u001b[0m             \u001b[0mself\u001b[0m\u001b[1;33m.\u001b[0m\u001b[0mnfev\u001b[0m \u001b[1;33m+=\u001b[0m \u001b[1;36m1\u001b[0m\u001b[1;33m\u001b[0m\u001b[1;33m\u001b[0m\u001b[0m\n\u001b[1;32m---> 70\u001b[1;33m             \u001b[1;32mreturn\u001b[0m \u001b[0mfun\u001b[0m\u001b[1;33m(\u001b[0m\u001b[0mx\u001b[0m\u001b[1;33m,\u001b[0m \u001b[1;33m*\u001b[0m\u001b[0margs\u001b[0m\u001b[1;33m)\u001b[0m\u001b[1;33m\u001b[0m\u001b[1;33m\u001b[0m\u001b[0m\n\u001b[0m\u001b[0;32m     71\u001b[0m \u001b[1;33m\u001b[0m\u001b[0m\n\u001b[0;32m     72\u001b[0m         \u001b[1;32mdef\u001b[0m \u001b[0mupdate_fun\u001b[0m\u001b[1;33m(\u001b[0m\u001b[1;33m)\u001b[0m\u001b[1;33m:\u001b[0m\u001b[1;33m\u001b[0m\u001b[1;33m\u001b[0m\u001b[0m\n",
            "\u001b[1;32m~\\AppData\\Local\\Programs\\Python\\Python37\\lib\\site-packages\\statsmodels\\base\\model.py\u001b[0m in \u001b[0;36mf\u001b[1;34m(params, *args)\u001b[0m\n\u001b[0;32m    498\u001b[0m \u001b[1;33m\u001b[0m\u001b[0m\n\u001b[0;32m    499\u001b[0m         \u001b[1;32mdef\u001b[0m \u001b[0mf\u001b[0m\u001b[1;33m(\u001b[0m\u001b[0mparams\u001b[0m\u001b[1;33m,\u001b[0m \u001b[1;33m*\u001b[0m\u001b[0margs\u001b[0m\u001b[1;33m)\u001b[0m\u001b[1;33m:\u001b[0m\u001b[1;33m\u001b[0m\u001b[1;33m\u001b[0m\u001b[0m\n\u001b[1;32m--> 500\u001b[1;33m             \u001b[1;32mreturn\u001b[0m \u001b[1;33m-\u001b[0m\u001b[0mself\u001b[0m\u001b[1;33m.\u001b[0m\u001b[0mloglike\u001b[0m\u001b[1;33m(\u001b[0m\u001b[0mparams\u001b[0m\u001b[1;33m,\u001b[0m \u001b[1;33m*\u001b[0m\u001b[0margs\u001b[0m\u001b[1;33m)\u001b[0m \u001b[1;33m/\u001b[0m \u001b[0mnobs\u001b[0m\u001b[1;33m\u001b[0m\u001b[1;33m\u001b[0m\u001b[0m\n\u001b[0m\u001b[0;32m    501\u001b[0m \u001b[1;33m\u001b[0m\u001b[0m\n\u001b[0;32m    502\u001b[0m         \u001b[1;32mif\u001b[0m \u001b[0mmethod\u001b[0m \u001b[1;33m==\u001b[0m \u001b[1;34m'newton'\u001b[0m\u001b[1;33m:\u001b[0m\u001b[1;33m\u001b[0m\u001b[1;33m\u001b[0m\u001b[0m\n",
            "\u001b[1;32m~\\AppData\\Local\\Programs\\Python\\Python37\\lib\\site-packages\\statsmodels\\tsa\\statespace\\mlemodel.py\u001b[0m in \u001b[0;36mloglike\u001b[1;34m(self, params, *args, **kwargs)\u001b[0m\n\u001b[0;32m    887\u001b[0m             \u001b[0mkwargs\u001b[0m\u001b[1;33m[\u001b[0m\u001b[1;34m'inversion_method'\u001b[0m\u001b[1;33m]\u001b[0m \u001b[1;33m=\u001b[0m \u001b[0mINVERT_UNIVARIATE\u001b[0m \u001b[1;33m|\u001b[0m \u001b[0mSOLVE_LU\u001b[0m\u001b[1;33m\u001b[0m\u001b[1;33m\u001b[0m\u001b[0m\n\u001b[0;32m    888\u001b[0m \u001b[1;33m\u001b[0m\u001b[0m\n\u001b[1;32m--> 889\u001b[1;33m         \u001b[0mloglike\u001b[0m \u001b[1;33m=\u001b[0m \u001b[0mself\u001b[0m\u001b[1;33m.\u001b[0m\u001b[0mssm\u001b[0m\u001b[1;33m.\u001b[0m\u001b[0mloglike\u001b[0m\u001b[1;33m(\u001b[0m\u001b[0mcomplex_step\u001b[0m\u001b[1;33m=\u001b[0m\u001b[0mcomplex_step\u001b[0m\u001b[1;33m,\u001b[0m \u001b[1;33m**\u001b[0m\u001b[0mkwargs\u001b[0m\u001b[1;33m)\u001b[0m\u001b[1;33m\u001b[0m\u001b[1;33m\u001b[0m\u001b[0m\n\u001b[0m\u001b[0;32m    890\u001b[0m \u001b[1;33m\u001b[0m\u001b[0m\n\u001b[0;32m    891\u001b[0m         \u001b[1;31m# Koopman, Shephard, and Doornik recommend maximizing the average\u001b[0m\u001b[1;33m\u001b[0m\u001b[1;33m\u001b[0m\u001b[1;33m\u001b[0m\u001b[0m\n",
            "\u001b[1;32m~\\AppData\\Local\\Programs\\Python\\Python37\\lib\\site-packages\\statsmodels\\tsa\\statespace\\kalman_filter.py\u001b[0m in \u001b[0;36mloglike\u001b[1;34m(self, **kwargs)\u001b[0m\n\u001b[0;32m    979\u001b[0m                                         self.loglikelihood_burn)\n\u001b[0;32m    980\u001b[0m         \u001b[1;32mif\u001b[0m \u001b[1;32mnot\u001b[0m \u001b[1;33m(\u001b[0m\u001b[0mkwargs\u001b[0m\u001b[1;33m[\u001b[0m\u001b[1;34m'conserve_memory'\u001b[0m\u001b[1;33m]\u001b[0m \u001b[1;33m&\u001b[0m \u001b[0mMEMORY_NO_LIKELIHOOD\u001b[0m\u001b[1;33m)\u001b[0m\u001b[1;33m:\u001b[0m\u001b[1;33m\u001b[0m\u001b[1;33m\u001b[0m\u001b[0m\n\u001b[1;32m--> 981\u001b[1;33m             \u001b[0mloglike\u001b[0m \u001b[1;33m=\u001b[0m \u001b[0mnp\u001b[0m\u001b[1;33m.\u001b[0m\u001b[0msum\u001b[0m\u001b[1;33m(\u001b[0m\u001b[0mkfilter\u001b[0m\u001b[1;33m.\u001b[0m\u001b[0mloglikelihood\u001b[0m\u001b[1;33m[\u001b[0m\u001b[0mloglikelihood_burn\u001b[0m\u001b[1;33m:\u001b[0m\u001b[1;33m]\u001b[0m\u001b[1;33m)\u001b[0m\u001b[1;33m\u001b[0m\u001b[1;33m\u001b[0m\u001b[0m\n\u001b[0m\u001b[0;32m    982\u001b[0m         \u001b[1;32melse\u001b[0m\u001b[1;33m:\u001b[0m\u001b[1;33m\u001b[0m\u001b[1;33m\u001b[0m\u001b[0m\n\u001b[0;32m    983\u001b[0m             \u001b[0mloglike\u001b[0m \u001b[1;33m=\u001b[0m \u001b[0mnp\u001b[0m\u001b[1;33m.\u001b[0m\u001b[0msum\u001b[0m\u001b[1;33m(\u001b[0m\u001b[0mkfilter\u001b[0m\u001b[1;33m.\u001b[0m\u001b[0mloglikelihood\u001b[0m\u001b[1;33m)\u001b[0m\u001b[1;33m\u001b[0m\u001b[1;33m\u001b[0m\u001b[0m\n",
            "\u001b[1;32m<__array_function__ internals>\u001b[0m in \u001b[0;36msum\u001b[1;34m(*args, **kwargs)\u001b[0m\n",
            "\u001b[1;32m~\\AppData\\Local\\Programs\\Python\\Python37\\lib\\site-packages\\numpy\\core\\fromnumeric.py\u001b[0m in \u001b[0;36msum\u001b[1;34m(a, axis, dtype, out, keepdims, initial, where)\u001b[0m\n\u001b[0;32m   2240\u001b[0m \u001b[1;33m\u001b[0m\u001b[0m\n\u001b[0;32m   2241\u001b[0m     return _wrapreduction(a, np.add, 'sum', axis, dtype, out, keepdims=keepdims,\n\u001b[1;32m-> 2242\u001b[1;33m                           initial=initial, where=where)\n\u001b[0m\u001b[0;32m   2243\u001b[0m \u001b[1;33m\u001b[0m\u001b[0m\n\u001b[0;32m   2244\u001b[0m \u001b[1;33m\u001b[0m\u001b[0m\n",
            "\u001b[1;32m~\\AppData\\Local\\Programs\\Python\\Python37\\lib\\site-packages\\numpy\\core\\fromnumeric.py\u001b[0m in \u001b[0;36m_wrapreduction\u001b[1;34m(obj, ufunc, method, axis, dtype, out, **kwargs)\u001b[0m\n\u001b[0;32m     85\u001b[0m                 \u001b[1;32mreturn\u001b[0m \u001b[0mreduction\u001b[0m\u001b[1;33m(\u001b[0m\u001b[0maxis\u001b[0m\u001b[1;33m=\u001b[0m\u001b[0maxis\u001b[0m\u001b[1;33m,\u001b[0m \u001b[0mout\u001b[0m\u001b[1;33m=\u001b[0m\u001b[0mout\u001b[0m\u001b[1;33m,\u001b[0m \u001b[1;33m**\u001b[0m\u001b[0mpasskwargs\u001b[0m\u001b[1;33m)\u001b[0m\u001b[1;33m\u001b[0m\u001b[1;33m\u001b[0m\u001b[0m\n\u001b[0;32m     86\u001b[0m \u001b[1;33m\u001b[0m\u001b[0m\n\u001b[1;32m---> 87\u001b[1;33m     \u001b[1;32mreturn\u001b[0m \u001b[0mufunc\u001b[0m\u001b[1;33m.\u001b[0m\u001b[0mreduce\u001b[0m\u001b[1;33m(\u001b[0m\u001b[0mobj\u001b[0m\u001b[1;33m,\u001b[0m \u001b[0maxis\u001b[0m\u001b[1;33m,\u001b[0m \u001b[0mdtype\u001b[0m\u001b[1;33m,\u001b[0m \u001b[0mout\u001b[0m\u001b[1;33m,\u001b[0m \u001b[1;33m**\u001b[0m\u001b[0mpasskwargs\u001b[0m\u001b[1;33m)\u001b[0m\u001b[1;33m\u001b[0m\u001b[1;33m\u001b[0m\u001b[0m\n\u001b[0m\u001b[0;32m     88\u001b[0m \u001b[1;33m\u001b[0m\u001b[0m\n\u001b[0;32m     89\u001b[0m \u001b[1;33m\u001b[0m\u001b[0m\n",
            "\u001b[1;31mKeyboardInterrupt\u001b[0m: "
          ]
        }
      ]
    },
    {
      "cell_type": "code",
      "metadata": {
        "id": "Cl7rI7AaBmPZ"
      },
      "source": [
        "from sklearn.model_selection import train_test_split\n",
        "y_train,y_test=train_test_split(data['Close'],test_size=0.15)"
      ],
      "execution_count": null,
      "outputs": []
    },
    {
      "cell_type": "code",
      "metadata": {
        "tags": [],
        "id": "76IKZJYSBmPZ",
        "outputId": "b05bc04b-a0eb-4263-f727-087fc369e3a6"
      },
      "source": [
        "from statsmodels.tsa.arima_model import ARIMA \n",
        "  \n",
        "model = ARIMA(y_train,  \n",
        "                order = (4,0,5))\n",
        "  \n",
        "result = model.fit(disp=0) \n",
        "result.summary() "
      ],
      "execution_count": null,
      "outputs": [
        {
          "output_type": "execute_result",
          "data": {
            "text/plain": [
              "<class 'statsmodels.iolib.summary.Summary'>\n",
              "\"\"\"\n",
              "                              ARMA Model Results                              \n",
              "==============================================================================\n",
              "Dep. Variable:                  Close   No. Observations:                 1991\n",
              "Model:                     ARMA(4, 5)   Log Likelihood              -11757.419\n",
              "Method:                       css-mle   S.D. of innovations             88.790\n",
              "Date:                Thu, 03 Sep 2020   AIC                          23536.838\n",
              "Time:                        18:54:52   BIC                          23598.399\n",
              "Sample:                             0   HQIC                         23559.447\n",
              "                                                                              \n",
              "===============================================================================\n",
              "                  coef    std err          z      P>|z|      [0.025      0.975]\n",
              "-------------------------------------------------------------------------------\n",
              "const         191.9653      2.167     88.599      0.000     187.719     196.212\n",
              "ar.L1.Close    -0.7163      0.419     -1.711      0.087      -1.537       0.104\n",
              "ar.L2.Close    -0.4122      0.291     -1.417      0.156      -0.982       0.158\n",
              "ar.L3.Close     0.2497      0.356      0.702      0.483      -0.448       0.947\n",
              "ar.L4.Close     0.5931      0.291      2.037      0.042       0.022       1.164\n",
              "ma.L1.Close     0.7207      0.419      1.720      0.085      -0.100       1.542\n",
              "ma.L2.Close     0.4547      0.296      1.535      0.125      -0.126       1.035\n",
              "ma.L3.Close    -0.2274      0.376     -0.604      0.546      -0.965       0.510\n",
              "ma.L4.Close    -0.5685      0.300     -1.897      0.058      -1.156       0.019\n",
              "ma.L5.Close     0.0207      0.029      0.717      0.473      -0.036       0.077\n",
              "                                    Roots                                    \n",
              "=============================================================================\n",
              "                  Real          Imaginary           Modulus         Frequency\n",
              "-----------------------------------------------------------------------------\n",
              "AR.1           -1.1757           -0.0000j            1.1757           -0.5000\n",
              "AR.2           -0.3097           -0.9735j            1.0216           -0.2990\n",
              "AR.3           -0.3097           +0.9735j            1.0216            0.2990\n",
              "AR.4            1.3741           -0.0000j            1.3741           -0.0000\n",
              "MA.1           -0.3098           -0.9619j            1.0106           -0.2996\n",
              "MA.2           -0.3098           +0.9619j            1.0106            0.2996\n",
              "MA.3           -1.1826           -0.0000j            1.1826           -0.5000\n",
              "MA.4            1.4374           -0.0000j            1.4374           -0.0000\n",
              "MA.5           27.8416           -0.0000j           27.8416           -0.0000\n",
              "-----------------------------------------------------------------------------\n",
              "\"\"\""
            ],
            "text/html": [
              "<table class=\"simpletable\">\n",
              "<caption>ARMA Model Results</caption>\n",
              "<tr>\n",
              "  <th>Dep. Variable:</th>       <td>Close</td>      <th>  No. Observations:  </th>    <td>1991</td>   \n",
              "</tr>\n",
              "<tr>\n",
              "  <th>Model:</th>            <td>ARMA(4, 5)</td>    <th>  Log Likelihood     </th> <td>-11757.419</td>\n",
              "</tr>\n",
              "<tr>\n",
              "  <th>Method:</th>             <td>css-mle</td>     <th>  S.D. of innovations</th>   <td>88.790</td>  \n",
              "</tr>\n",
              "<tr>\n",
              "  <th>Date:</th>          <td>Thu, 03 Sep 2020</td> <th>  AIC                </th>  <td>23536.838</td>\n",
              "</tr>\n",
              "<tr>\n",
              "  <th>Time:</th>              <td>18:54:52</td>     <th>  BIC                </th>  <td>23598.399</td>\n",
              "</tr>\n",
              "<tr>\n",
              "  <th>Sample:</th>                <td>0</td>        <th>  HQIC               </th>  <td>23559.447</td>\n",
              "</tr>\n",
              "<tr>\n",
              "  <th></th>                       <td> </td>        <th>                     </th>      <td> </td>    \n",
              "</tr>\n",
              "</table>\n",
              "<table class=\"simpletable\">\n",
              "<tr>\n",
              "       <td></td>          <th>coef</th>     <th>std err</th>      <th>z</th>      <th>P>|z|</th>  <th>[0.025</th>    <th>0.975]</th>  \n",
              "</tr>\n",
              "<tr>\n",
              "  <th>const</th>       <td>  191.9653</td> <td>    2.167</td> <td>   88.599</td> <td> 0.000</td> <td>  187.719</td> <td>  196.212</td>\n",
              "</tr>\n",
              "<tr>\n",
              "  <th>ar.L1.Close</th> <td>   -0.7163</td> <td>    0.419</td> <td>   -1.711</td> <td> 0.087</td> <td>   -1.537</td> <td>    0.104</td>\n",
              "</tr>\n",
              "<tr>\n",
              "  <th>ar.L2.Close</th> <td>   -0.4122</td> <td>    0.291</td> <td>   -1.417</td> <td> 0.156</td> <td>   -0.982</td> <td>    0.158</td>\n",
              "</tr>\n",
              "<tr>\n",
              "  <th>ar.L3.Close</th> <td>    0.2497</td> <td>    0.356</td> <td>    0.702</td> <td> 0.483</td> <td>   -0.448</td> <td>    0.947</td>\n",
              "</tr>\n",
              "<tr>\n",
              "  <th>ar.L4.Close</th> <td>    0.5931</td> <td>    0.291</td> <td>    2.037</td> <td> 0.042</td> <td>    0.022</td> <td>    1.164</td>\n",
              "</tr>\n",
              "<tr>\n",
              "  <th>ma.L1.Close</th> <td>    0.7207</td> <td>    0.419</td> <td>    1.720</td> <td> 0.085</td> <td>   -0.100</td> <td>    1.542</td>\n",
              "</tr>\n",
              "<tr>\n",
              "  <th>ma.L2.Close</th> <td>    0.4547</td> <td>    0.296</td> <td>    1.535</td> <td> 0.125</td> <td>   -0.126</td> <td>    1.035</td>\n",
              "</tr>\n",
              "<tr>\n",
              "  <th>ma.L3.Close</th> <td>   -0.2274</td> <td>    0.376</td> <td>   -0.604</td> <td> 0.546</td> <td>   -0.965</td> <td>    0.510</td>\n",
              "</tr>\n",
              "<tr>\n",
              "  <th>ma.L4.Close</th> <td>   -0.5685</td> <td>    0.300</td> <td>   -1.897</td> <td> 0.058</td> <td>   -1.156</td> <td>    0.019</td>\n",
              "</tr>\n",
              "<tr>\n",
              "  <th>ma.L5.Close</th> <td>    0.0207</td> <td>    0.029</td> <td>    0.717</td> <td> 0.473</td> <td>   -0.036</td> <td>    0.077</td>\n",
              "</tr>\n",
              "</table>\n",
              "<table class=\"simpletable\">\n",
              "<caption>Roots</caption>\n",
              "<tr>\n",
              "    <td></td>   <th>            Real</th>  <th>         Imaginary</th> <th>         Modulus</th>  <th>        Frequency</th>\n",
              "</tr>\n",
              "<tr>\n",
              "  <th>AR.1</th> <td>          -1.1757</td> <td>          -0.0000j</td> <td>           1.1757</td> <td>          -0.5000</td>\n",
              "</tr>\n",
              "<tr>\n",
              "  <th>AR.2</th> <td>          -0.3097</td> <td>          -0.9735j</td> <td>           1.0216</td> <td>          -0.2990</td>\n",
              "</tr>\n",
              "<tr>\n",
              "  <th>AR.3</th> <td>          -0.3097</td> <td>          +0.9735j</td> <td>           1.0216</td> <td>           0.2990</td>\n",
              "</tr>\n",
              "<tr>\n",
              "  <th>AR.4</th> <td>           1.3741</td> <td>          -0.0000j</td> <td>           1.3741</td> <td>          -0.0000</td>\n",
              "</tr>\n",
              "<tr>\n",
              "  <th>MA.1</th> <td>          -0.3098</td> <td>          -0.9619j</td> <td>           1.0106</td> <td>          -0.2996</td>\n",
              "</tr>\n",
              "<tr>\n",
              "  <th>MA.2</th> <td>          -0.3098</td> <td>          +0.9619j</td> <td>           1.0106</td> <td>           0.2996</td>\n",
              "</tr>\n",
              "<tr>\n",
              "  <th>MA.3</th> <td>          -1.1826</td> <td>          -0.0000j</td> <td>           1.1826</td> <td>          -0.5000</td>\n",
              "</tr>\n",
              "<tr>\n",
              "  <th>MA.4</th> <td>           1.4374</td> <td>          -0.0000j</td> <td>           1.4374</td> <td>          -0.0000</td>\n",
              "</tr>\n",
              "<tr>\n",
              "  <th>MA.5</th> <td>          27.8416</td> <td>          -0.0000j</td> <td>          27.8416</td> <td>          -0.0000</td>\n",
              "</tr>\n",
              "</table>"
            ]
          },
          "metadata": {
            "tags": []
          },
          "execution_count": 223
        }
      ]
    },
    {
      "cell_type": "code",
      "metadata": {
        "tags": [],
        "id": "aA1xr_UwBmPa",
        "outputId": "be64bc44-e6ed-4bdb-efdd-a30874e580b1"
      },
      "source": [
        "start=len(y_train)\n",
        "end=len(y_train)+len(y_test)-1\n",
        "predictions = result.predict(start,end, \n",
        "                             typ = 'levels').rename(\"Predictions\") \n",
        "print(predictions)"
      ],
      "execution_count": null,
      "outputs": [
        {
          "output_type": "stream",
          "text": [
            "1990    197.838392\n",
            "1991    183.811004\n",
            "1992    219.169994\n",
            "1993    181.911670\n",
            "1994    203.745371\n",
            "1995    199.398645\n",
            "1996    190.207264\n",
            "1997    214.688725\n",
            "1998    178.646383\n",
            "1999    209.602080\n",
            "2000    197.472053\n",
            "2001    191.655556\n",
            "2002    210.530462\n",
            "2003    180.284036\n",
            "2004    214.235835\n",
            "2005    192.133234\n",
            "2006    193.534337\n",
            "2007    209.017581\n",
            "2008    183.036118\n",
            "2009    214.919503\n",
            "2010    186.857846\n",
            "2011    198.274799\n",
            "2012    207.554318\n",
            "2013    184.161849\n",
            "2014    213.897358\n",
            "2015    184.472811\n",
            "2016    203.764423\n",
            "2017    203.742358\n",
            "2018    185.059641\n",
            "2019    213.670053\n",
            "           ...    \n",
            "2312    193.383716\n",
            "2313    203.688654\n",
            "2314    200.358769\n",
            "2315    195.684109\n",
            "2316    206.811566\n",
            "2317    192.930384\n",
            "2318    205.029354\n",
            "2319    198.684443\n",
            "2320    197.252384\n",
            "2321    205.972119\n",
            "2322    192.880391\n",
            "2323    206.057656\n",
            "2324    197.129834\n",
            "2325    198.931753\n",
            "2326    204.828392\n",
            "2327    193.227217\n",
            "2328    206.726971\n",
            "2329    195.779106\n",
            "2330    200.628221\n",
            "2331    203.453390\n",
            "2332    193.942630\n",
            "2333    207.011771\n",
            "2334    194.702897\n",
            "2335    202.249400\n",
            "2336    201.930896\n",
            "2337    194.978827\n",
            "2338    206.908432\n",
            "2339    193.954787\n",
            "2340    203.709566\n",
            "2341    200.350554\n",
            "Name: Predictions, Length: 352, dtype: float64\n"
          ],
          "name": "stdout"
        }
      ]
    },
    {
      "cell_type": "code",
      "metadata": {
        "id": "AZ1a7IK2BmPc",
        "outputId": "c8a86c94-9b9c-411b-d381-3b4e45e1a2d6"
      },
      "source": [
        "from sklearn.metrics import mean_squared_error \n",
        "from statsmodels.tools.eval_measures import rmse\n",
        "rmse(y_test,predictions)"
      ],
      "execution_count": null,
      "outputs": [
        {
          "output_type": "execute_result",
          "data": {
            "text/plain": [
              "86.70260268301074"
            ]
          },
          "metadata": {
            "tags": []
          },
          "execution_count": 204
        }
      ]
    },
    {
      "cell_type": "code",
      "metadata": {
        "tags": [],
        "id": "BwPFKcQfBmPd",
        "outputId": "709d8c37-d00e-4e90-fc52-7efcf532204a"
      },
      "source": [
        "data1=pd.read_csv('adaniports_newMA.csv')\n",
        "data1=data1['Y']\n",
        "predictions[2300]"
      ],
      "execution_count": null,
      "outputs": [
        {
          "output_type": "execute_result",
          "data": {
            "text/plain": [
              "192.49962525175548"
            ]
          },
          "metadata": {
            "tags": []
          },
          "execution_count": 205
        }
      ]
    },
    {
      "cell_type": "code",
      "metadata": {
        "id": "O9MFyPvTBmPe"
      },
      "source": [
        "predi=[]\n",
        "for i in range(1991,2341):\n",
        "    if (predictions[i]-predictions[i-1]>1.6):\n",
        "        predi.append(1)\n",
        "    if (predictions[i]-predictions[i-1]<-1.6):\n",
        "        predi.append(-1)\n",
        "    else :\n",
        "        predi.append(0)\n",
        "       "
      ],
      "execution_count": null,
      "outputs": []
    },
    {
      "cell_type": "code",
      "metadata": {
        "tags": [],
        "id": "baWJa9ruBmPe",
        "outputId": "4787b97b-e65a-4192-9d70-442cb8adff3a"
      },
      "source": [
        "print(predi)"
      ],
      "execution_count": null,
      "outputs": [
        {
          "output_type": "stream",
          "text": [
            "[-1, 1, 0, -1, 1, 0, -1, -1, 1, 0, -1, 1, 0, -1, -1, 1, 0, -1, 1, 0, -1, 0, 1, 0, -1, 1, 0, -1, 1, 0, 1, 0, -1, 1, 0, -1, 1, 0, 0, -1, 1, 0, -1, 1, 0, -1, -1, 1, 0, -1, 1, 0, -1, -1, 1, 0, -1, 1, 0, -1, 1, 0, 1, 0, -1, 1, 0, -1, 1, 0, 1, 0, -1, 1, 0, -1, 1, 0, 0, -1, 1, 0, -1, 1, 0, -1, -1, 1, 0, -1, 1, 0, -1, -1, 1, 0, -1, 1, 0, -1, 1, 0, 1, 0, -1, 1, 0, -1, 1, 0, 1, 0, -1, 1, 0, -1, 1, 0, 0, -1, 1, 0, -1, 1, 0, -1, -1, 1, 0, -1, 1, 0, -1, 0, 1, 0, -1, 1, 0, -1, 1, 0, 1, 0, -1, 1, 0, -1, 1, 0, 1, 0, -1, 1, 0, -1, 1, 0, -1, -1, 1, 0, -1, 1, 0, -1, -1, 1, 0, -1, 1, 0, -1, 0, 1, 0, -1, 1, 0, -1, 1, 0, 1, 0, -1, 1, 0, -1, 1, 0, 1, 0, -1, 1, 0, -1, 1, 0, -1, -1, 1, 0, -1, 1, 0, -1, -1, 1, 0, -1, 1, 0, -1, 0, 1, 0, -1, 1, 0, -1, 1, 0, 1, 0, -1, 1, 0, -1, 1, 0, 1, 0, -1, 1, 0, -1, 1, 0, -1, -1, 1, 0, -1, 1, 0, -1, -1, 1, 0, -1, 1, 0, -1, 0, 1, 0, -1, 1, 0, -1, 1, 0, 1, 0, -1, 1, 0, -1, 1, 0, 1, 0, -1, 1, 0, -1, 1, 0, -1, -1, 1, 0, -1, 1, 0, -1, -1, 1, 0, -1, 1, 0, -1, 0, 1, 0, -1, 1, 0, -1, 1, 0, 1, 0, -1, 1, 0, -1, 1, 0, 0, -1, 1, 0, -1, 1, 0, -1, -1, 1, 0, -1, 1, 0, -1, -1, 1, 0, -1, 1, 0, -1, 0, 1, 0, -1, 1, 0, -1, 1, 0, 1, 0, -1, 1, 0, -1, 1, 0, 0, -1, 1, 0, -1, 1, 0, -1, -1, 1, 0, -1, 1, 0, -1, -1, 1, 0, -1, 1, 0, -1, 0, 1, 0, -1, 1, 0, -1, 1, 0, 1, 0, -1, 1, 0, -1, 1, 0, 0, -1, 1, 0, -1, 1, 0, -1, -1, 1, 0, -1, 1, 0, -1, -1, 1, 0, -1, 1, 0, -1, 0, 1, 0, -1, 1, 0, -1, 1, 0, 1, 0, -1, 1, 0, -1, 1, 0, 0, -1, 1, 0, -1, 1, 0, -1, -1, 1, 0, -1, 1, 0, -1, -1, 1, 0, -1, 1, 0, -1, 1, 0, 1, 0, -1, 1, 0, -1, 1, 0, 1, 0, -1, 1, 0, -1, 1, 0, 0, -1, 1, 0, -1, 1, 0, -1, -1, 1, 0, -1, 1, 0, -1, 0, 1, 0, -1, 1, 0, -1, 1, 0, 1, 0, -1, 1, 0, -1, 1, 0, 1, 0, -1, 1, 0, -1, 1, 0, 0, -1, 1, 0, -1, 1, 0]\n"
          ],
          "name": "stdout"
        }
      ]
    },
    {
      "cell_type": "code",
      "metadata": {
        "tags": [],
        "id": "khRq-15vBmPg",
        "outputId": "f5a91a0b-afdb-4698-f4bf-5a1ef5222fc7"
      },
      "source": [
        "c=0\n",
        "for i in range(1991,2341):\n",
        "    if (predi[i-1991]==data1[i]):\n",
        "       c=c+1\n",
        "print(c)\n",
        "accuracy=c/len(y_test)\n",
        "print(accuracy)"
      ],
      "execution_count": null,
      "outputs": [
        {
          "output_type": "stream",
          "text": [
            "108\n",
            "0.3068181818181818\n"
          ],
          "name": "stdout"
        }
      ]
    },
    {
      "cell_type": "code",
      "metadata": {
        "id": "Zy3-2PTCBmPh",
        "outputId": "5993a74e-ec56-4662-f47d-a708c0e3eeb2"
      },
      "source": [
        "from sklearn.metrics import mean_squared_error \n",
        "from statsmodels.tools.eval_measures import rmse\n",
        "rmse(y_test,predictions)"
      ],
      "execution_count": null,
      "outputs": [
        {
          "output_type": "execute_result",
          "data": {
            "text/plain": [
              "86.70260268301074"
            ]
          },
          "metadata": {
            "tags": []
          },
          "execution_count": 220
        }
      ]
    },
    {
      "cell_type": "code",
      "metadata": {
        "id": "JOllsUb6BmPj"
      },
      "source": [
        "from arch import arch_model"
      ],
      "execution_count": null,
      "outputs": []
    },
    {
      "cell_type": "code",
      "metadata": {
        "tags": [],
        "id": "Jgh7tqIlBmPk",
        "outputId": "00238b81-2afb-4f87-d8c2-899d611d6c6a"
      },
      "source": [
        "model=arch_model(y_train, vol='GARCH', p=1,o=0,q=1, dist='Normal')\n",
        "results=model.fit()\n",
        "print(results.summary())\n"
      ],
      "execution_count": null,
      "outputs": [
        {
          "output_type": "stream",
          "text": [
            "Iteration:      1,   Func. Count:      6,   Neg. LLF: 16165.340269880759\n",
            "Iteration:      2,   Func. Count:     14,   Neg. LLF: 11764.179693413222\n",
            "Iteration:      3,   Func. Count:     19,   Neg. LLF: 11764.191979851897\n",
            "Iteration:      4,   Func. Count:     25,   Neg. LLF: 11764.179467650592\n",
            "Iteration:      5,   Func. Count:     30,   Neg. LLF: 11764.179457442584\n",
            "Iteration:      6,   Func. Count:     34,   Neg. LLF: 11764.179457442577\n",
            "Optimization terminated successfully    (Exit mode 0)\n",
            "            Current function value: 11764.179457442584\n",
            "            Iterations: 6\n",
            "            Function evaluations: 34\n",
            "            Gradient evaluations: 6\n",
            "                     Constant Mean - GARCH Model Results                      \n",
            "==============================================================================\n",
            "Dep. Variable:                  Close   R-squared:                      -0.000\n",
            "Mean Model:             Constant Mean   Adj. R-squared:                 -0.000\n",
            "Vol Model:                      GARCH   Log-Likelihood:               -11764.2\n",
            "Distribution:                  Normal   AIC:                           23536.4\n",
            "Method:            Maximum Likelihood   BIC:                           23558.7\n",
            "                                        No. Observations:                 1991\n",
            "Date:                Thu, Sep 03 2020   Df Residuals:                     1987\n",
            "Time:                        19:50:48   Df Model:                            4\n",
            "                                 Mean Model                                 \n",
            "============================================================================\n",
            "                 coef    std err          t      P>|t|      95.0% Conf. Int.\n",
            "----------------------------------------------------------------------------\n",
            "mu           191.9566      1.996     96.153      0.000 [1.880e+02,1.959e+02]\n",
            "                               Volatility Model                              \n",
            "=============================================================================\n",
            "                 coef    std err          t      P>|t|       95.0% Conf. Int.\n",
            "-----------------------------------------------------------------------------\n",
            "omega       2382.1750   4115.418      0.579      0.563 [-5.684e+03,1.045e+04]\n",
            "alpha[1]       0.0000  1.298e-02      0.000      1.000 [-2.543e-02,2.543e-02]\n",
            "beta[1]        0.6996      0.522      1.341      0.180      [ -0.323,  1.722]\n",
            "=============================================================================\n",
            "\n",
            "Covariance estimator: robust\n"
          ],
          "name": "stdout"
        }
      ]
    },
    {
      "cell_type": "code",
      "metadata": {
        "id": "jQxtKWe3BmPl",
        "outputId": "cc4135c1-bf0f-46e1-e9cc-7691f431ea7f"
      },
      "source": [
        "forecasts = results.forecast(horizon=30, method='simulation', simulations=1000)\n",
        "sims = forecasts.simulations\n",
        "print(sims)"
      ],
      "execution_count": null,
      "outputs": [
        {
          "output_type": "execute_result",
          "data": {
            "text/plain": [
              "<function print>"
            ]
          },
          "metadata": {
            "tags": []
          },
          "execution_count": 234
        }
      ]
    },
    {
      "cell_type": "code",
      "metadata": {
        "id": "GL9krsUdBmPm"
      },
      "source": [
        "x_train, x_test, y_train, y_test = train_test_split(my_data[['RSI','MACD', 'MA5_disc', 'MA12_disc', 'PROC', 'SOC']], my_data['Y'], test_size = 0.33)\n",
        "rfc.fit(x_train,y_train)\n",
        "y_pred = rfc.predict(x_test)\n",
        "print(classification_report(y_test,y_pred))\n",
        "print(accuracy_score(y_test,y_pred))"
      ],
      "execution_count": null,
      "outputs": []
    }
  ]
}